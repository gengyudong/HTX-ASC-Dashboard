{
 "cells": [
  {
   "cell_type": "code",
   "execution_count": 11,
   "id": "b36660e8",
   "metadata": {},
   "outputs": [],
   "source": [
    "import pymysql\n",
    "import pandas as pd\n",
    "from datetime import date, timedelta"
   ]
  },
  {
   "cell_type": "code",
   "execution_count": 4,
   "id": "f608eef2",
   "metadata": {},
   "outputs": [],
   "source": [
    "connection = pymysql.connect(host = '119.74.24.181', user = 'htx', password = 'Police123456', database = 'ASTRO')"
   ]
  },
  {
   "cell_type": "code",
   "execution_count": 5,
   "id": "29815ed0",
   "metadata": {},
   "outputs": [
    {
     "name": "stderr",
     "output_type": "stream",
     "text": [
      "C:\\Users\\gengy\\AppData\\Local\\Temp\\ipykernel_14948\\4218794030.py:1: UserWarning: pandas only supports SQLAlchemy connectable (engine/connection) or database string URI or sqlite3 DBAPI2 connection. Other DBAPI2 objects are not tested. Please consider using SQLAlchemy.\n",
      "  df = pd.read_sql_query(\"SELECT * FROM astro.scam_management_system\", connection)\n"
     ]
    }
   ],
   "source": [
    "df = pd.read_sql_query(\"SELECT * FROM astro.scam_management_system\", connection)\n"
   ]
  },
  {
   "cell_type": "code",
   "execution_count": 12,
   "id": "3bb848c2",
   "metadata": {},
   "outputs": [
    {
     "name": "stdout",
     "output_type": "stream",
     "text": [
      "['7-3-2023', '8-3-2023', '9-3-2023', '10-3-2023', '11-3-2023', '12-3-2023', '13-3-2023', '14-3-2023', '15-3-2023', '16-3-2023', '17-3-2023', '18-3-2023', '19-3-2023', '20-3-2023', '21-3-2023', '22-3-2023', '23-3-2023', '24-3-2023', '25-3-2023', '26-3-2023', '27-3-2023', '28-3-2023', '29-3-2023', '30-3-2023', '31-3-2023', '1-4-2023', '2-4-2023', '3-4-2023', '4-4-2023', '5-4-2023']\n",
      "[0, 0, 0, 0, 0, 0, 0, 0, 0, 0, 0, 0, 0, 0, 0, 0, 0, 0, 0, 0, 0, 0, 0, 0, 0, 0, 0, 0, 0, 0]\n"
     ]
    }
   ],
   "source": [
    "today = date.today()\n",
    "dates = []\n",
    "no_of_cases = []\n",
    "\n",
    "for i in range(30):\n",
    "    previous_date = today - timedelta(days = i)\n",
    "    previous_date = previous_date.strftime(\"%#Y-%#m-%d\")\n",
    "    dates.append(previous_date)\n",
    "\n",
    "dates.reverse()\n",
    "\n",
    "for date in dates:\n",
    "    df_for_this_date = df[df.date_assigned == date]\n",
    "    no_of_cases_on_this_date = len(df_for_this_date.index)\n",
    "    no_of_cases.append(no_of_cases_on_this_date)\n",
    "\n",
    "print(dates)\n",
    "print(no_of_cases)"
   ]
  },
  {
   "cell_type": "code",
   "execution_count": 13,
   "id": "a9179083",
   "metadata": {},
   "outputs": [
    {
     "data": {
      "text/html": [
       "<div>\n",
       "<style scoped>\n",
       "    .dataframe tbody tr th:only-of-type {\n",
       "        vertical-align: middle;\n",
       "    }\n",
       "\n",
       "    .dataframe tbody tr th {\n",
       "        vertical-align: top;\n",
       "    }\n",
       "\n",
       "    .dataframe thead th {\n",
       "        text-align: right;\n",
       "    }\n",
       "</style>\n",
       "<table border=\"1\" class=\"dataframe\">\n",
       "  <thead>\n",
       "    <tr style=\"text-align: right;\">\n",
       "      <th></th>\n",
       "      <th>report_number</th>\n",
       "      <th>initial_report_number</th>\n",
       "      <th>classification</th>\n",
       "      <th>scam_type</th>\n",
       "      <th>account_bank</th>\n",
       "      <th>account_number</th>\n",
       "      <th>account_phone_number</th>\n",
       "      <th>amount_scammed</th>\n",
       "      <th>amount_transcated</th>\n",
       "      <th>whatsapp_number</th>\n",
       "      <th>online_market_place</th>\n",
       "      <th>remarks</th>\n",
       "      <th>division_assigned</th>\n",
       "      <th>date_assigned</th>\n",
       "      <th>telco_report_number</th>\n",
       "      <th>overseas_local</th>\n",
       "      <th>asc_do</th>\n",
       "      <th>datetime_production_order_served</th>\n",
       "      <th>datetime_bank_account_frozen</th>\n",
       "      <th>date_bank_details_received</th>\n",
       "      <th>account_holder_name</th>\n",
       "      <th>account_holder_nric</th>\n",
       "      <th>acount_holder_phone_number</th>\n",
       "      <th>latest_balance_seized</th>\n",
       "      <th>is_coporate_account</th>\n",
       "      <th>referral_date</th>\n",
       "      <th>division</th>\n",
       "      <th>account_or_paynowlah_number</th>\n",
       "    </tr>\n",
       "  </thead>\n",
       "  <tbody>\n",
       "    <tr>\n",
       "      <th>83896</th>\n",
       "      <td>D/20230501/4291</td>\n",
       "      <td>ASC-pending SOA</td>\n",
       "      <td>Cheating</td>\n",
       "      <td>Job Scam</td>\n",
       "      <td>UOB</td>\n",
       "      <td>7798633162</td>\n",
       "      <td></td>\n",
       "      <td>5000.0</td>\n",
       "      <td>0.0</td>\n",
       "      <td>None</td>\n",
       "      <td>None</td>\n",
       "      <td>None</td>\n",
       "      <td>E</td>\n",
       "      <td>2023-03-23</td>\n",
       "      <td>E/20230322/2057</td>\n",
       "      <td>L-L</td>\n",
       "      <td>Angela Yap</td>\n",
       "      <td>2023-03-22</td>\n",
       "      <td>2023-03-22</td>\n",
       "      <td>None</td>\n",
       "      <td>HMGLPYCRFVPCNJ</td>\n",
       "      <td>x</td>\n",
       "      <td></td>\n",
       "      <td>NaN</td>\n",
       "      <td>0</td>\n",
       "      <td>2023-03-22</td>\n",
       "      <td>E</td>\n",
       "      <td>7798633162</td>\n",
       "    </tr>\n",
       "    <tr>\n",
       "      <th>83897</th>\n",
       "      <td>D/20180624/9648</td>\n",
       "      <td>ASC-pending SOA</td>\n",
       "      <td>Cheating</td>\n",
       "      <td>Job Scam</td>\n",
       "      <td>UOB</td>\n",
       "      <td>7693984523</td>\n",
       "      <td></td>\n",
       "      <td>200.0</td>\n",
       "      <td>0.0</td>\n",
       "      <td>None</td>\n",
       "      <td>None</td>\n",
       "      <td>None</td>\n",
       "      <td>J</td>\n",
       "      <td>2023-03-23</td>\n",
       "      <td>J/20230322/2067</td>\n",
       "      <td>L-L</td>\n",
       "      <td>Christo Lim</td>\n",
       "      <td>2023-03-22</td>\n",
       "      <td>2023-03-23</td>\n",
       "      <td>None</td>\n",
       "      <td>SLDXDNXXCTRUVD</td>\n",
       "      <td>x</td>\n",
       "      <td></td>\n",
       "      <td>NaN</td>\n",
       "      <td>0</td>\n",
       "      <td>2023-03-22</td>\n",
       "      <td>J</td>\n",
       "      <td>7693984523</td>\n",
       "    </tr>\n",
       "    <tr>\n",
       "      <th>83898</th>\n",
       "      <td>G/20100725/3779</td>\n",
       "      <td>ASC-pending SOA</td>\n",
       "      <td>Cheating</td>\n",
       "      <td>Job Scam</td>\n",
       "      <td>UOB</td>\n",
       "      <td>7695289890</td>\n",
       "      <td></td>\n",
       "      <td>4950.0</td>\n",
       "      <td>0.0</td>\n",
       "      <td>None</td>\n",
       "      <td>None</td>\n",
       "      <td>None</td>\n",
       "      <td>J</td>\n",
       "      <td>2023-03-23</td>\n",
       "      <td>J/20230322/2067</td>\n",
       "      <td>L-L</td>\n",
       "      <td>Angela Yap</td>\n",
       "      <td>2023-03-22</td>\n",
       "      <td>2023-03-23</td>\n",
       "      <td>None</td>\n",
       "      <td>CTUUVAWOOHGDTC</td>\n",
       "      <td>x</td>\n",
       "      <td></td>\n",
       "      <td>NaN</td>\n",
       "      <td>0</td>\n",
       "      <td>2023-03-22</td>\n",
       "      <td>D</td>\n",
       "      <td>7695289890</td>\n",
       "    </tr>\n",
       "    <tr>\n",
       "      <th>83899</th>\n",
       "      <td>F/20180623/4801</td>\n",
       "      <td>ASC-pending SOA</td>\n",
       "      <td>Cheating</td>\n",
       "      <td>Job Scam</td>\n",
       "      <td>UOB</td>\n",
       "      <td>7797948598</td>\n",
       "      <td>94362026</td>\n",
       "      <td>52.0</td>\n",
       "      <td>0.0</td>\n",
       "      <td>94041108</td>\n",
       "      <td>None</td>\n",
       "      <td>None</td>\n",
       "      <td>L</td>\n",
       "      <td>2023-03-23</td>\n",
       "      <td>L/20230322/2067</td>\n",
       "      <td>L-L</td>\n",
       "      <td>Angela Yap</td>\n",
       "      <td>2023-03-23</td>\n",
       "      <td>2023-03-23</td>\n",
       "      <td>None</td>\n",
       "      <td>CCDVQDUVWRAKFV</td>\n",
       "      <td>x</td>\n",
       "      <td></td>\n",
       "      <td>NaN</td>\n",
       "      <td>0</td>\n",
       "      <td>2023-03-23</td>\n",
       "      <td>F</td>\n",
       "      <td>7797948598</td>\n",
       "    </tr>\n",
       "    <tr>\n",
       "      <th>83900</th>\n",
       "      <td>G/20130222/4107</td>\n",
       "      <td>ASC-pending SOA</td>\n",
       "      <td>Cheating</td>\n",
       "      <td>Job Scam</td>\n",
       "      <td>UOB</td>\n",
       "      <td>7799864630</td>\n",
       "      <td>87312536</td>\n",
       "      <td>1352.0</td>\n",
       "      <td>0.0</td>\n",
       "      <td>None</td>\n",
       "      <td>None</td>\n",
       "      <td>None</td>\n",
       "      <td>F</td>\n",
       "      <td>2023-03-23</td>\n",
       "      <td>F/20230323/2000</td>\n",
       "      <td>L-L</td>\n",
       "      <td>Angela Yap</td>\n",
       "      <td>2023-03-23</td>\n",
       "      <td>2023-03-23</td>\n",
       "      <td>None</td>\n",
       "      <td>CIUYSXVSIRKGCD</td>\n",
       "      <td>x</td>\n",
       "      <td></td>\n",
       "      <td>NaN</td>\n",
       "      <td>0</td>\n",
       "      <td>2023-03-23</td>\n",
       "      <td>F</td>\n",
       "      <td>7799864630</td>\n",
       "    </tr>\n",
       "  </tbody>\n",
       "</table>\n",
       "</div>"
      ],
      "text/plain": [
       "         report_number initial_report_number classification scam_type  \\\n",
       "83896  D/20230501/4291       ASC-pending SOA       Cheating  Job Scam   \n",
       "83897  D/20180624/9648       ASC-pending SOA       Cheating  Job Scam   \n",
       "83898  G/20100725/3779       ASC-pending SOA       Cheating  Job Scam   \n",
       "83899  F/20180623/4801       ASC-pending SOA       Cheating  Job Scam   \n",
       "83900  G/20130222/4107       ASC-pending SOA       Cheating  Job Scam   \n",
       "\n",
       "      account_bank account_number account_phone_number  amount_scammed  \\\n",
       "83896          UOB     7798633162                               5000.0   \n",
       "83897          UOB     7693984523                                200.0   \n",
       "83898          UOB     7695289890                               4950.0   \n",
       "83899          UOB     7797948598             94362026            52.0   \n",
       "83900          UOB     7799864630             87312536          1352.0   \n",
       "\n",
       "       amount_transcated whatsapp_number online_market_place remarks  \\\n",
       "83896                0.0            None                None    None   \n",
       "83897                0.0            None                None    None   \n",
       "83898                0.0            None                None    None   \n",
       "83899                0.0        94041108                None    None   \n",
       "83900                0.0            None                None    None   \n",
       "\n",
       "      division_assigned date_assigned telco_report_number overseas_local  \\\n",
       "83896                 E    2023-03-23     E/20230322/2057            L-L   \n",
       "83897                 J    2023-03-23     J/20230322/2067            L-L   \n",
       "83898                 J    2023-03-23     J/20230322/2067            L-L   \n",
       "83899                 L    2023-03-23     L/20230322/2067            L-L   \n",
       "83900                 F    2023-03-23     F/20230323/2000            L-L   \n",
       "\n",
       "            asc_do datetime_production_order_served  \\\n",
       "83896   Angela Yap                       2023-03-22   \n",
       "83897  Christo Lim                       2023-03-22   \n",
       "83898   Angela Yap                       2023-03-22   \n",
       "83899   Angela Yap                       2023-03-23   \n",
       "83900   Angela Yap                       2023-03-23   \n",
       "\n",
       "      datetime_bank_account_frozen date_bank_details_received  \\\n",
       "83896                   2023-03-22                       None   \n",
       "83897                   2023-03-23                       None   \n",
       "83898                   2023-03-23                       None   \n",
       "83899                   2023-03-23                       None   \n",
       "83900                   2023-03-23                       None   \n",
       "\n",
       "      account_holder_name account_holder_nric acount_holder_phone_number  \\\n",
       "83896      HMGLPYCRFVPCNJ                   x                              \n",
       "83897      SLDXDNXXCTRUVD                   x                              \n",
       "83898      CTUUVAWOOHGDTC                   x                              \n",
       "83899      CCDVQDUVWRAKFV                   x                              \n",
       "83900      CIUYSXVSIRKGCD                   x                              \n",
       "\n",
       "       latest_balance_seized  is_coporate_account referral_date division  \\\n",
       "83896                    NaN                    0    2023-03-22        E   \n",
       "83897                    NaN                    0    2023-03-22        J   \n",
       "83898                    NaN                    0    2023-03-22        D   \n",
       "83899                    NaN                    0    2023-03-23        F   \n",
       "83900                    NaN                    0    2023-03-23        F   \n",
       "\n",
       "      account_or_paynowlah_number  \n",
       "83896                  7798633162  \n",
       "83897                  7693984523  \n",
       "83898                  7695289890  \n",
       "83899                  7797948598  \n",
       "83900                  7799864630  "
      ]
     },
     "execution_count": 13,
     "metadata": {},
     "output_type": "execute_result"
    }
   ],
   "source": [
    "pd.set_option('display.max_columns', None)\n",
    "pd.set_option('display.max_rows', None)\n",
    "df.tail()"
   ]
  },
  {
   "cell_type": "code",
   "execution_count": 28,
   "id": "23251c15",
   "metadata": {},
   "outputs": [
    {
     "name": "stdout",
     "output_type": "stream",
     "text": [
      "(83901, 19)\n",
      "<class 'pandas.core.frame.DataFrame'>\n",
      "RangeIndex: 83901 entries, 0 to 83900\n",
      "Data columns (total 19 columns):\n",
      " #   Column                            Non-Null Count  Dtype  \n",
      "---  ------                            --------------  -----  \n",
      " 0   report_number                     83901 non-null  object \n",
      " 1   classification                    83901 non-null  object \n",
      " 2   scam_type                         83901 non-null  object \n",
      " 3   account_bank                      83901 non-null  object \n",
      " 4   amount_scammed                    83900 non-null  float64\n",
      " 5   amount_transcated                 5438 non-null   float64\n",
      " 6   online_market_place               10034 non-null  object \n",
      " 7   division_assigned                 83732 non-null  object \n",
      " 8   date_assigned                     83901 non-null  object \n",
      " 9   telco_report_number               79106 non-null  object \n",
      " 10  overseas_local                    83900 non-null  object \n",
      " 11  asc_do                            83901 non-null  object \n",
      " 12  datetime_production_order_served  78837 non-null  object \n",
      " 13  datetime_bank_account_frozen      77586 non-null  object \n",
      " 14  date_bank_details_received        75832 non-null  object \n",
      " 15  latest_balance_seized             76032 non-null  float64\n",
      " 16  is_coporate_account               83901 non-null  int64  \n",
      " 17  referral_date                     83899 non-null  object \n",
      " 18  division                          83901 non-null  object \n",
      "dtypes: float64(3), int64(1), object(15)\n",
      "memory usage: 12.2+ MB\n",
      "None\n"
     ]
    }
   ],
   "source": [
    "df.drop(['initial_report_number', 'account_number', 'account_phone_number', 'whatsapp_number', 'remarks', 'account_holder_name', 'account_holder_nric', 'acount_holder_phone_number', 'account_or_paynowlah_number'], axis = 'columns', inplace=True)\n",
    "print(df.shape)\n",
    "print(df.info())"
   ]
  },
  {
   "cell_type": "code",
   "execution_count": 15,
   "id": "2fe96c7d",
   "metadata": {},
   "outputs": [
    {
     "name": "stdout",
     "output_type": "stream",
     "text": [
      "243\n"
     ]
    }
   ],
   "source": [
    "\n",
    "day_itself = df[df.date_assigned == '23/3/2023']\n",
    "print(len(day_itself.index))\n"
   ]
  },
  {
   "cell_type": "code",
   "execution_count": 1,
   "id": "2900bc91",
   "metadata": {},
   "outputs": [
    {
     "ename": "NameError",
     "evalue": "name 'df' is not defined",
     "output_type": "error",
     "traceback": [
      "\u001b[1;31m---------------------------------------------------------------------------\u001b[0m",
      "\u001b[1;31mNameError\u001b[0m                                 Traceback (most recent call last)",
      "Cell \u001b[1;32mIn[1], line 1\u001b[0m\n\u001b[1;32m----> 1\u001b[0m day_itself \u001b[39m=\u001b[39m df[df\u001b[39m.\u001b[39mdate_assigned \u001b[39m==\u001b[39m \u001b[39m'\u001b[39m\u001b[39m20/3/2023\u001b[39m\u001b[39m'\u001b[39m]\n\u001b[0;32m      2\u001b[0m \u001b[39mprint\u001b[39m(\u001b[39mlen\u001b[39m(day_itself\u001b[39m.\u001b[39mindex))\n",
      "\u001b[1;31mNameError\u001b[0m: name 'df' is not defined"
     ]
    }
   ],
   "source": [
    "day_itself = df[df.date_assigned == '20/3/2023']\n",
    "print(len(day_itself.index))"
   ]
  },
  {
   "cell_type": "code",
   "execution_count": 2,
   "id": "4c3c7f1b",
   "metadata": {},
   "outputs": [
    {
     "ename": "NameError",
     "evalue": "name 'df' is not defined",
     "output_type": "error",
     "traceback": [
      "\u001b[1;31m---------------------------------------------------------------------------\u001b[0m",
      "\u001b[1;31mNameError\u001b[0m                                 Traceback (most recent call last)",
      "Cell \u001b[1;32mIn[2], line 2\u001b[0m\n\u001b[0;32m      1\u001b[0m \u001b[39m#Number of victims\u001b[39;00m\n\u001b[1;32m----> 2\u001b[0m \u001b[39mprint\u001b[39m(\u001b[39mlen\u001b[39m(df\u001b[39m.\u001b[39mindex))\n",
      "\u001b[1;31mNameError\u001b[0m: name 'df' is not defined"
     ]
    }
   ],
   "source": [
    "#Number of victims\n",
    "print(len(df.index))"
   ]
  },
  {
   "cell_type": "code",
   "execution_count": 14,
   "id": "cc0f9342",
   "metadata": {},
   "outputs": [
    {
     "name": "stdout",
     "output_type": "stream",
     "text": [
      "['1/3/2023', '2/3/2023', '3/3/2023', '4/3/2023', '5/3/2023', '6/3/2023', '7/3/2023', '8/3/2023', '9/3/2023', '10/3/2023', '11/3/2023', '12/3/2023', '13/3/2023', '14/3/2023', '15/3/2023', '16/3/2023', '17/3/2023', '18/3/2023', '19/3/2023', '20/3/2023', '21/3/2023', '22/3/2023', '23/3/2023', '24/3/2023', '25/3/2023', '26/3/2023', '27/3/2023', '28/3/2023', '29/3/2023', '30/3/2023']\n",
      "[251, 233, 267, 227, 97, 129, 411, 182, 179, 284, 222, 130, 143, 332, 276, 202, 211, 188, 125, 137, 433, 194, 243, 0, 0, 0, 0, 0, 0, 0]\n"
     ]
    }
   ],
   "source": [
    "today = date.today()\n",
    "dates = []\n",
    "no_of_cases = []\n",
    "\n",
    "for i in range(30):\n",
    "    previous_date = today - timedelta(days = i)\n",
    "    previous_date = previous_date.strftime(\"%#d/%#m/%Y\")\n",
    "    dates.append(previous_date)\n",
    "\n",
    "dates.reverse()\n",
    "\n",
    "for date in dates:\n",
    "    df_for_this_date = df[df.date_assigned == date]\n",
    "    no_of_cases_on_this_date = len(df_for_this_date.index)\n",
    "    no_of_cases.append(no_of_cases_on_this_date)\n",
    "\n",
    "print(dates)\n",
    "print(no_of_cases)"
   ]
  },
  {
   "cell_type": "code",
   "execution_count": 5,
   "id": "2fdc3cfa",
   "metadata": {},
   "outputs": [
    {
     "name": "stdout",
     "output_type": "stream",
     "text": [
      "625751982.2299999\n"
     ]
    }
   ],
   "source": [
    "#Number of losses\n",
    "total_loss = df['amount_scammed'].sum()\n",
    "print(total_loss)"
   ]
  },
  {
   "cell_type": "code",
   "execution_count": 58,
   "id": "f6aa0838",
   "metadata": {},
   "outputs": [
    {
     "data": {
      "text/html": [
       "<div>\n",
       "<style scoped>\n",
       "    .dataframe tbody tr th:only-of-type {\n",
       "        vertical-align: middle;\n",
       "    }\n",
       "\n",
       "    .dataframe tbody tr th {\n",
       "        vertical-align: top;\n",
       "    }\n",
       "\n",
       "    .dataframe thead th {\n",
       "        text-align: right;\n",
       "    }\n",
       "</style>\n",
       "<table border=\"1\" class=\"dataframe\">\n",
       "  <thead>\n",
       "    <tr style=\"text-align: right;\">\n",
       "      <th></th>\n",
       "      <th>bank</th>\n",
       "      <th>Victims By Banks</th>\n",
       "    </tr>\n",
       "  </thead>\n",
       "  <tbody>\n",
       "    <tr>\n",
       "      <th>0</th>\n",
       "      <td>DBS/POSB</td>\n",
       "      <td>18</td>\n",
       "    </tr>\n",
       "    <tr>\n",
       "      <th>1</th>\n",
       "      <td>OCBC</td>\n",
       "      <td>3</td>\n",
       "    </tr>\n",
       "  </tbody>\n",
       "</table>\n",
       "</div>"
      ],
      "text/plain": [
       "       bank  Victims By Banks\n",
       "0  DBS/POSB                18\n",
       "1      OCBC                 3"
      ]
     },
     "execution_count": 58,
     "metadata": {},
     "output_type": "execute_result"
    }
   ],
   "source": [
    "#Victims by bank\n",
    "df.groupby('bank').size().reset_index(name = 'Victims By Banks')"
   ]
  },
  {
   "cell_type": "code",
   "execution_count": 55,
   "id": "bda0b6dd",
   "metadata": {},
   "outputs": [
    {
     "data": {
      "text/plain": [
       "scam_type\n",
       "E-commerce Scam     1\n",
       "Job Scam           16\n",
       "Loan Scam           3\n",
       "Love                1\n",
       "dtype: int64"
      ]
     },
     "execution_count": 55,
     "metadata": {},
     "output_type": "execute_result"
    }
   ],
   "source": [
    "#Types of scams\n",
    "df.loc[3, 'scam_type'] = 'Job Scam'\n",
    "df.groupby('scam_type').size()"
   ]
  },
  {
   "cell_type": "code",
   "execution_count": null,
   "id": "8fd955f6",
   "metadata": {},
   "outputs": [],
   "source": [
    "#Types of scams\n",
    "df.loc[3, 'scam_type'] = 'Job Scam'\n",
    "df.groupby('scam_type').size()"
   ]
  }
 ],
 "metadata": {
  "kernelspec": {
   "display_name": "Python 3 (ipykernel)",
   "language": "python",
   "name": "python3"
  },
  "language_info": {
   "codemirror_mode": {
    "name": "ipython",
    "version": 3
   },
   "file_extension": ".py",
   "mimetype": "text/x-python",
   "name": "python",
   "nbconvert_exporter": "python",
   "pygments_lexer": "ipython3",
   "version": "3.11.2"
  }
 },
 "nbformat": 4,
 "nbformat_minor": 5
}
