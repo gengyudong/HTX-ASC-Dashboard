{
 "cells": [
  {
   "cell_type": "code",
   "execution_count": 1,
   "metadata": {},
   "outputs": [
    {
     "name": "stderr",
     "output_type": "stream",
     "text": [
      "C:\\Users\\clair\\AppData\\Local\\Temp\\ipykernel_27068\\737720242.py:7: UserWarning: pandas only supports SQLAlchemy connectable (engine/connection) or database string URI or sqlite3 DBAPI2 connection. Other DBAPI2 objects are not tested. Please consider using SQLAlchemy.\n",
      "  df = pd.read_sql_query(\"SELECT * FROM astro.scam_management_system\", connection)\n"
     ]
    }
   ],
   "source": [
    "import pymysql\n",
    "import json\n",
    "# import openpyxl\n",
    "import pandas as pd\n",
    "# from datetime import date, timedelta\n",
    "connection = pymysql.connect(host = '119.74.24.181', user = 'htx', password = 'Police123456', database = 'ASTRO')\n",
    "df = pd.read_sql_query(\"SELECT * FROM astro.scam_management_system\", connection)\n"
   ]
  },
  {
   "cell_type": "code",
   "execution_count": 9,
   "metadata": {},
   "outputs": [
    {
     "name": "stdout",
     "output_type": "stream",
     "text": [
      "L-L          Local-Local\n",
      "L-O       Local-Overseas\n",
      "O-L       Overseas-Local\n",
      "O-O    Overseas-Overseas\n",
      "dtype: object\n",
      "[{'name': 'L-L', 'fullname': 'Local-Local', 'y': 542875415.0799999, 'count': 81983}, {'name': 'L-O', 'fullname': 'Local-Overseas', 'y': 35359732.51, 'count': 1826}, {'name': 'O-L', 'fullname': 'Overseas-Local', 'y': 88173449.07, 'count': 89}, {'name': 'O-O', 'fullname': 'Overseas-Overseas', 'y': 7523.12, 'count': 2}]\n"
     ]
    },
    {
     "data": {
      "text/plain": [
       "list"
      ]
     },
     "execution_count": 9,
     "metadata": {},
     "output_type": "execute_result"
    }
   ],
   "source": [
    "###     Data Processing \n",
    "fundFlowDf = df[['overseas_local', 'amount_scammed', 'amount_transcated']].copy()\n",
    "fundFlowSum = fundFlowDf.groupby('overseas_local').sum().round(2)\n",
    "fundFlowCount = fundFlowDf.groupby('overseas_local').size()\n",
    "fundFlowSum = fundFlowSum['amount_scammed']+fundFlowSum['amount_transcated']\n",
    "\n",
    "#   data cleaning\n",
    "fundFlowSum['L-L']+=fundFlowSum['L-l']\n",
    "fundFlowSum = fundFlowSum.drop('L-l')\n",
    "\n",
    "fundFlowCount['L-L']+=fundFlowCount['L-l']\n",
    "fundFlowCount = fundFlowCount.drop('L-l')\n",
    "\n",
    "#   convert to list\n",
    "# to_display_df = pd.concat([fundFlowSum, fundFlowCount], axis = 1).reset_index()\n",
    "# to_display_df.columns = ['x', 'y', 'count']\n",
    "# result = to_display_df.to_json(orient=\"records\")\n",
    "\n",
    "fullName = pd.Series({'L-L':'Local-Local', 'L-O':'Local-Overseas', 'O-L':'Overseas-Local', 'O-O':'Overseas-Overseas'})\n",
    "print(fullName)\n",
    "to_display_df = pd.concat([fullName, fundFlowSum, fundFlowCount], axis = 1).reset_index()\n",
    "to_display_df.columns = ['name', 'fullname','y', 'count']\n",
    "\n",
    "result = to_display_df.to_json(orient=\"records\")\n",
    "result_dict = to_display_df.to_dict(orient=\"records\")\n",
    "\n",
    "json.loads(result)\n",
    "print(result_dict)\n",
    "type(json.loads(result))\n"
   ]
  },
  {
   "cell_type": "code",
   "execution_count": 3,
   "metadata": {},
   "outputs": [
    {
     "name": "stdout",
     "output_type": "stream",
     "text": [
      "[{'name': 'L-L', 'y': 542875415.0799999, 'count': 81983}, {'name': 'L-O', 'y': 35359732.51, 'count': 1826}, {'name': 'O-L', 'y': 88173449.07, 'count': 89}, {'name': 'O-O', 'y': 7523.12, 'count': 2}]\n"
     ]
    }
   ],
   "source": [
    "print(result)"
   ]
  },
  {
   "cell_type": "code",
   "execution_count": 9,
   "metadata": {},
   "outputs": [],
   "source": [
    "new_df = df.drop(columns = 'online_market_place') #because one of of the entries is invalid (www.advertising ticket.com)\n",
    "new_df.to_excel('data.xlsx')"
   ]
  },
  {
   "cell_type": "code",
   "execution_count": 3,
   "metadata": {},
   "outputs": [
    {
     "name": "stdout",
     "output_type": "stream",
     "text": [
      "<class 'pandas.core.frame.DataFrame'>\n",
      "RangeIndex: 83901 entries, 0 to 83900\n",
      "Data columns (total 28 columns):\n",
      " #   Column                            Non-Null Count  Dtype         \n",
      "---  ------                            --------------  -----         \n",
      " 0   Unnamed: 0                        83901 non-null  int64         \n",
      " 1   report_number                     83901 non-null  object        \n",
      " 2   initial_report_number             10123 non-null  object        \n",
      " 3   classification                    83901 non-null  object        \n",
      " 4   scam_type                         83901 non-null  object        \n",
      " 5   account_bank                      83901 non-null  object        \n",
      " 6   account_number                    83876 non-null  object        \n",
      " 7   account_phone_number              40449 non-null  float64       \n",
      " 8   amount_scammed                    83900 non-null  float64       \n",
      " 9   amount_transcated                 5438 non-null   float64       \n",
      " 10  whatsapp_number                   14962 non-null  float64       \n",
      " 11  remarks                           6793 non-null   object        \n",
      " 12  division_assigned                 83732 non-null  object        \n",
      " 13  date_assigned                     83901 non-null  datetime64[ns]\n",
      " 14  telco_report_number               79106 non-null  object        \n",
      " 15  overseas_local                    83900 non-null  object        \n",
      " 16  asc_do                            83896 non-null  object        \n",
      " 17  datetime_production_order_served  78837 non-null  datetime64[ns]\n",
      " 18  datetime_bank_account_frozen      77586 non-null  datetime64[ns]\n",
      " 19  date_bank_details_received        75832 non-null  datetime64[ns]\n",
      " 20  account_holder_name               83901 non-null  object        \n",
      " 21  account_holder_nric               83901 non-null  object        \n",
      " 22  acount_holder_phone_number        74691 non-null  float64       \n",
      " 23  latest_balance_seized             76032 non-null  float64       \n",
      " 24  is_coporate_account               83901 non-null  int64         \n",
      " 25  referral_date                     83899 non-null  datetime64[ns]\n",
      " 26  division                          83901 non-null  object        \n",
      " 27  account_or_paynowlah_number       83876 non-null  object        \n",
      "dtypes: datetime64[ns](5), float64(6), int64(2), object(15)\n",
      "memory usage: 17.9+ MB\n"
     ]
    }
   ],
   "source": [
    "df = pd.read_excel('data.xlsx')\n",
    "df.info()"
   ]
  },
  {
   "cell_type": "code",
   "execution_count": null,
   "metadata": {},
   "outputs": [
    {
     "data": {
      "text/plain": [
       "0     2022-01-01\n",
       "1     2022-01-02\n",
       "2     2022-01-03\n",
       "3     2022-01-04\n",
       "4     2022-01-05\n",
       "         ...    \n",
       "472   2023-04-18\n",
       "473   2023-04-19\n",
       "474   2023-04-20\n",
       "475   2023-04-21\n",
       "476   2023-04-22\n",
       "Length: 477, dtype: datetime64[ns]"
      ]
     },
     "execution_count": 10,
     "metadata": {},
     "output_type": "execute_result"
    }
   ],
   "source": [
    "first_date = df.loc[0][\"date_assigned\"]\n",
    "all_dates = pd.Series(pd.date_range(start = first_date, freq=\"D\", end=pd.to_datetime(\"today\")))"
   ]
  },
  {
   "cell_type": "code",
   "execution_count": 27,
   "metadata": {},
   "outputs": [
    {
     "name": "stdout",
     "output_type": "stream",
     "text": [
      "overseas_local\n",
      "L-L    81982\n",
      "L-O     1826\n",
      "L-l        1\n",
      "O-L       89\n",
      "O-O        2\n",
      "dtype: int64\n"
     ]
    },
    {
     "data": {
      "text/plain": [
       "overseas_local\n",
       "L-L    81983\n",
       "L-O     1826\n",
       "O-L       89\n",
       "O-O        2\n",
       "dtype: int64"
      ]
     },
     "execution_count": 27,
     "metadata": {},
     "output_type": "execute_result"
    }
   ],
   "source": [
    "#breakdown of fund flow \n",
    "fundFlowDf = df[['overseas_local']]\n",
    "fundFlowCount = fundFlowDf.groupby('overseas_local').size()\n",
    "print(fundFlowCount)\n",
    "\n",
    "#settling wrong entry\n",
    "fundFlowCount['L-L']+=fundFlowCount['L-l']\n",
    "fundFlowCount = fundFlowCount.drop('L-l')\n",
    "\n",
    "fundFlowCount"
   ]
  },
  {
   "cell_type": "code",
   "execution_count": 43,
   "metadata": {},
   "outputs": [
    {
     "name": "stdout",
     "output_type": "stream",
     "text": [
      "<class 'pandas.core.frame.DataFrame'>\n",
      "RangeIndex: 83901 entries, 0 to 83900\n",
      "Data columns (total 3 columns):\n",
      " #   Column             Non-Null Count  Dtype  \n",
      "---  ------             --------------  -----  \n",
      " 0   overseas_local     83900 non-null  object \n",
      " 1   amount_scammed     83900 non-null  float64\n",
      " 2   amount_transcated  5438 non-null   float64\n",
      "dtypes: float64(2), object(1)\n",
      "memory usage: 1.9+ MB\n",
      "None\n",
      "overseas_local\n",
      "L-L    5.428754e+08\n",
      "L-O    3.535973e+07\n",
      "O-L    8.817345e+07\n",
      "O-O    7.523120e+03\n",
      "dtype: float64\n"
     ]
    }
   ],
   "source": [
    "#breakdown of fund flow \n",
    "fundFlowDf = df[['overseas_local', 'amount_scammed', 'amount_transcated']]\n",
    "print(fundFlowDf.info())\n",
    "groupedFundFlow = fundFlowDf.groupby('overseas_local').sum()\n",
    "fundFlowSeries = groupedFundFlow['amount_scammed']+groupedFundFlow['amount_transcated']\n",
    "#   Data Cleaning\n",
    "fundFlowSeries['L-L']+=fundFlowSeries['L-l']\n",
    "fundFlowSeries = fundFlowSeries.drop('L-l')\n",
    "\n",
    "fundFlowSeries = fundFlowSeries.round(2)\n",
    "print(fundFlowSeries)\n",
    "\n",
    "\n",
    "#settling wrong entry\n",
    "\n"
   ]
  },
  {
   "cell_type": "code",
   "execution_count": 15,
   "metadata": {},
   "outputs": [
    {
     "name": "stderr",
     "output_type": "stream",
     "text": [
      "C:\\Users\\clair\\AppData\\Local\\Temp\\ipykernel_12576\\3599782961.py:2: UserWarning: pandas only supports SQLAlchemy connectable (engine/connection) or database string URI or sqlite3 DBAPI2 connection. Other DBAPI2 objects are not tested. Please consider using SQLAlchemy.\n",
      "  telco_df = pd.read_sql_query(\"\"\"select telco from scam_management_system\n"
     ]
    }
   ],
   "source": [
    "#Telco Line Termination \n",
    "telco_df = pd.read_sql_query(\"\"\"select telco from scam_management_system \n",
    "join telcos on scam_management_system.telco_report_number = telcos.report_reference \"\"\", connection)\n"
   ]
  },
  {
   "cell_type": "code",
   "execution_count": 17,
   "metadata": {},
   "outputs": [
    {
     "name": "stdout",
     "output_type": "stream",
     "text": [
      "          telco\n",
      "0       Starhub\n",
      "1       Singtel\n",
      "2       Starhub\n",
      "3       Singtel\n",
      "4       Starhub\n",
      "..          ...\n",
      "147  MyRepublic\n",
      "148     Singtel\n",
      "149     Singtel\n",
      "150     Singtel\n",
      "151     Singtel\n",
      "\n",
      "[152 rows x 1 columns]\n"
     ]
    },
    {
     "data": {
      "text/plain": [
       "(152, 1)"
      ]
     },
     "execution_count": 17,
     "metadata": {},
     "output_type": "execute_result"
    }
   ],
   "source": [
    "print(telco_df)\n",
    "telco_df.shape"
   ]
  },
  {
   "cell_type": "code",
   "execution_count": 22,
   "metadata": {},
   "outputs": [
    {
     "name": "stdout",
     "output_type": "stream",
     "text": [
      "['M1', 'MyRepublic', 'Singtel', 'Starhub']\n"
     ]
    }
   ],
   "source": [
    "telco_count = telco_df.groupby('telco').size()\n",
    "telco_name = telco_count.index.to_list()\n",
    "print(telco_name)"
   ]
  },
  {
   "attachments": {},
   "cell_type": "markdown",
   "metadata": {},
   "source": [
    "TABLE"
   ]
  },
  {
   "cell_type": "code",
   "execution_count": 1,
   "metadata": {},
   "outputs": [
    {
     "ename": "NameError",
     "evalue": "name 'pd' is not defined",
     "output_type": "error",
     "traceback": [
      "\u001b[1;31m---------------------------------------------------------------------------\u001b[0m",
      "\u001b[1;31mNameError\u001b[0m                                 Traceback (most recent call last)",
      "Cell \u001b[1;32mIn[1], line 1\u001b[0m\n\u001b[1;32m----> 1\u001b[0m df \u001b[39m=\u001b[39m pd\u001b[39m.\u001b[39mread_sql_query(\u001b[39m\"\"\"\u001b[39m\u001b[39mSELECT report_number, account_bank, datetime_production_order_served, datetime_bank_account_frozen, amount_scammed\u001b[39m\n\u001b[0;32m      2\u001b[0m \u001b[39mFROM scam_management_system\u001b[39m\u001b[39m\"\"\"\u001b[39m, connection)\n\u001b[0;32m      3\u001b[0m \u001b[39mprint\u001b[39m(df)\n",
      "\u001b[1;31mNameError\u001b[0m: name 'pd' is not defined"
     ]
    }
   ],
   "source": [
    "df = pd.read_sql_query(\"\"\"SELECT report_number, account_bank, datetime_production_order_served, datetime_bank_account_frozen, amount_scammed\n",
    "FROM scam_management_system\"\"\", connection)\n",
    "print(df)"
   ]
  },
  {
   "cell_type": "code",
   "execution_count": null,
   "metadata": {},
   "outputs": [],
   "source": [
    "num_PO = groupedBank['datetime_production_order_served'].count()\n",
    "banks = num_PO.index.to_list()\n"
   ]
  },
  {
   "cell_type": "code",
   "execution_count": 4,
   "metadata": {},
   "outputs": [
    {
     "name": "stderr",
     "output_type": "stream",
     "text": [
      "C:\\Users\\clair\\AppData\\Local\\Temp\\ipykernel_32752\\918973361.py:1: UserWarning: pandas only supports SQLAlchemy connectable (engine/connection) or database string URI or sqlite3 DBAPI2 connection. Other DBAPI2 objects are not tested. Please consider using SQLAlchemy.\n",
      "  df = pd.read_sql_query(\"\"\"SELECT account_bank, datetime_production_order_served, datetime_bank_account_frozen, amount_scammed\n"
     ]
    },
    {
     "name": "stdout",
     "output_type": "stream",
     "text": [
      "Index(['amount_scammed-min', 'amount_scammed-max', 'amount_scammed-sum',\n",
      "       'amount_scammed-mean', 'reaction_time-min', 'reaction_time-max',\n",
      "       'reaction_time-sum', 'reaction_time-mean',\n",
      "       'Number of Production Orders Sent'],\n",
      "      dtype='object')\n",
      "account_bank\n",
      "ABS                           0\n",
      "ANT                           0\n",
      "ANZ                           0\n",
      "Aleta Planet                  0\n",
      "Alipay                        0\n",
      "                      ...      \n",
      "WISE                    0:00:00\n",
      "Wise             1 day, 0:00:00\n",
      "Xfers                   0:00:00\n",
      "Zipmex                  0:00:00\n",
      "eRemit / KLIQ           0:00:00\n",
      "Name: reaction_time-sum, Length: 121, dtype: object\n"
     ]
    }
   ],
   "source": [
    "df = pd.read_sql_query(\"\"\"SELECT account_bank, datetime_production_order_served, datetime_bank_account_frozen, amount_scammed\n",
    "FROM scam_management_system order by account_bank asc\"\"\", connection)\n",
    "df['reaction_time'] =  df['datetime_bank_account_frozen']- df['datetime_production_order_served']\n",
    "\n",
    "groupedBank = df.groupby('account_bank')\n",
    "\n",
    "\n",
    "\n",
    "agg_function = {'amount_scammed':['min', 'max', 'sum', 'mean'],\n",
    "                'reaction_time': ['min', 'max', 'sum', 'mean'],\n",
    "                'datetime_production_order_served': 'count',\n",
    "                }\n",
    "\n",
    "stats = groupedBank.agg(agg_function)\n",
    "stats.columns = ['-'.join(col) for col in stats.columns.values]\n",
    "stats = stats.rename(columns = {'datetime_production_order_served-count': 'Number of Production Orders Sent'}) #might not need this\n",
    "print(stats.columns)\n",
    "banks = stats.index.to_list()\n",
    "print(stats['reaction_time-max'])\n",
    "\n",
    "# dropdown = ui.select(['avg', 'min', 'sum', 'mean'], value='mean')\n",
    "\n",
    "# to_display_df = stats[['Number of Production Orders Sent','amount_scammed-'+dropdown, 'reaction_time-'+dropdown]]\n",
    "\n",
    "# amount_scammed_stats = groupedBank.agg({'amount_scammed':['min', 'max', 'sum', 'mean']})\n",
    "# reaction_time_stats = groupedBank.agg({'reaction_time':['min', 'max', 'sum', 'mean']})\n",
    "\n",
    "\n",
    "# stats.loc[:,[('amount_scammed','mean'), ('reaction_time', 'mean')]]\n",
    "\n",
    "# stats.columns\n"
   ]
  },
  {
   "cell_type": "code",
   "execution_count": 74,
   "metadata": {},
   "outputs": [
    {
     "name": "stderr",
     "output_type": "stream",
     "text": [
      "C:\\Users\\clair\\AppData\\Local\\Temp\\ipykernel_30812\\988708546.py:1: UserWarning: pandas only supports SQLAlchemy connectable (engine/connection) or database string URI or sqlite3 DBAPI2 connection. Other DBAPI2 objects are not tested. Please consider using SQLAlchemy.\n",
      "  df = pd.read_sql_query(\"\"\"SELECT report_number, account_bank, datetime_production_order_served, datetime_bank_account_frozen, amount_scammed\n"
     ]
    },
    {
     "name": "stdout",
     "output_type": "stream",
     "text": [
      "Index(['amount_scammed-min', 'amount_scammed-max', 'amount_scammed-sum',\n",
      "       'amount_scammed-mean', 'reaction_time-min', 'reaction_time-max',\n",
      "       'reaction_time-sum', 'reaction_time-mean',\n",
      "       'datetime_production_order_served-count'],\n",
      "      dtype='object')\n",
      "amount_scammed-min                             0.0\n",
      "amount_scammed-max                        43259.62\n",
      "amount_scammed-sum                        79604.54\n",
      "amount_scammed-mean                        2341.31\n",
      "reaction_time-min                              NaT\n",
      "reaction_time-max                              NaT\n",
      "reaction_time-sum                                0\n",
      "reaction_time-mean                             NaT\n",
      "datetime_production_order_served-count           0\n",
      "Name: ABS, dtype: object\n"
     ]
    }
   ],
   "source": [
    "df = pd.read_sql_query(\"\"\"SELECT report_number, account_bank, datetime_production_order_served, datetime_bank_account_frozen, amount_scammed\n",
    "FROM scam_management_system\"\"\", connection)\n",
    "df['reaction_time'] =  df['datetime_bank_account_frozen']- df['datetime_production_order_served']\n",
    "groupedBank = df.groupby('account_bank')\n",
    "\n",
    "agg_function = {'amount_scammed':['min', 'max', 'sum', 'mean'],\n",
    "                'reaction_time': ['min', 'max', 'sum', 'mean'],\n",
    "                'datetime_production_order_served': 'count',\n",
    "                }\n",
    "\n",
    "stats = groupedBank.agg(agg_function)\n",
    "\n",
    "stats.columns = ['-'.join(col) for col in stats.columns.values]\n",
    "print(stats.columns)\n",
    "banks = stats.index.to_list()\n",
    "\n",
    "print(stats.loc['ABS'])\n",
    "\n",
    "\n",
    "\n",
    "# amount_scammed_stats = groupedBank.agg({'amount_scammed':['min', 'max', 'sum', 'mean']})\n",
    "# reaction_time_stats = groupedBank.agg({'reaction_time':['min', 'max', 'sum', 'mean']})\n",
    "\n",
    "\n",
    "# stats.loc[:,[('amount_scammed','mean'), ('reaction_time', 'mean')]]\n",
    "\n",
    "# stats.columns\n"
   ]
  },
  {
   "attachments": {},
   "cell_type": "markdown",
   "metadata": {},
   "source": [
    "https://towardsdatascience.com/how-to-flatten-multiindex-columns-and-rows-in-pandas-f5406c50e569\n"
   ]
  },
  {
   "cell_type": "code",
   "execution_count": null,
   "metadata": {},
   "outputs": [
    {
     "ename": "NotImplementedError",
     "evalue": "orient='table' is not supported for MultiIndex columns",
     "output_type": "error",
     "traceback": [
      "\u001b[1;31m---------------------------------------------------------------------------\u001b[0m",
      "\u001b[1;31mNotImplementedError\u001b[0m                       Traceback (most recent call last)",
      "Cell \u001b[1;32mIn[85], line 1\u001b[0m\n\u001b[1;32m----> 1\u001b[0m result \u001b[39m=\u001b[39m stats\u001b[39m.\u001b[39;49mto_json(orient \u001b[39m=\u001b[39;49m \u001b[39m\"\u001b[39;49m\u001b[39mtable\u001b[39;49m\u001b[39m\"\u001b[39;49m)\n\u001b[0;32m      2\u001b[0m parsed \u001b[39m=\u001b[39m loads(result)\n\u001b[0;32m      3\u001b[0m dumps(parsed, indent\u001b[39m=\u001b[39m\u001b[39m4\u001b[39m)  \n",
      "File \u001b[1;32mc:\\Users\\clair\\AppData\\Local\\Programs\\Python\\Python311\\Lib\\site-packages\\pandas\\core\\generic.py:2532\u001b[0m, in \u001b[0;36mNDFrame.to_json\u001b[1;34m(self, path_or_buf, orient, date_format, double_precision, force_ascii, date_unit, default_handler, lines, compression, index, indent, storage_options, mode)\u001b[0m\n\u001b[0;32m   2529\u001b[0m config\u001b[39m.\u001b[39mis_nonnegative_int(indent)\n\u001b[0;32m   2530\u001b[0m indent \u001b[39m=\u001b[39m indent \u001b[39mor\u001b[39;00m \u001b[39m0\u001b[39m\n\u001b[1;32m-> 2532\u001b[0m \u001b[39mreturn\u001b[39;00m json\u001b[39m.\u001b[39;49mto_json(\n\u001b[0;32m   2533\u001b[0m     path_or_buf\u001b[39m=\u001b[39;49mpath_or_buf,\n\u001b[0;32m   2534\u001b[0m     obj\u001b[39m=\u001b[39;49m\u001b[39mself\u001b[39;49m,\n\u001b[0;32m   2535\u001b[0m     orient\u001b[39m=\u001b[39;49morient,\n\u001b[0;32m   2536\u001b[0m     date_format\u001b[39m=\u001b[39;49mdate_format,\n\u001b[0;32m   2537\u001b[0m     double_precision\u001b[39m=\u001b[39;49mdouble_precision,\n\u001b[0;32m   2538\u001b[0m     force_ascii\u001b[39m=\u001b[39;49mforce_ascii,\n\u001b[0;32m   2539\u001b[0m     date_unit\u001b[39m=\u001b[39;49mdate_unit,\n\u001b[0;32m   2540\u001b[0m     default_handler\u001b[39m=\u001b[39;49mdefault_handler,\n\u001b[0;32m   2541\u001b[0m     lines\u001b[39m=\u001b[39;49mlines,\n\u001b[0;32m   2542\u001b[0m     compression\u001b[39m=\u001b[39;49mcompression,\n\u001b[0;32m   2543\u001b[0m     index\u001b[39m=\u001b[39;49mindex,\n\u001b[0;32m   2544\u001b[0m     indent\u001b[39m=\u001b[39;49mindent,\n\u001b[0;32m   2545\u001b[0m     storage_options\u001b[39m=\u001b[39;49mstorage_options,\n\u001b[0;32m   2546\u001b[0m     mode\u001b[39m=\u001b[39;49mmode,\n\u001b[0;32m   2547\u001b[0m )\n",
      "File \u001b[1;32mc:\\Users\\clair\\AppData\\Local\\Programs\\Python\\Python311\\Lib\\site-packages\\pandas\\io\\json\\_json.py:181\u001b[0m, in \u001b[0;36mto_json\u001b[1;34m(path_or_buf, obj, orient, date_format, double_precision, force_ascii, date_unit, default_handler, lines, compression, index, indent, storage_options, mode)\u001b[0m\n\u001b[0;32m    178\u001b[0m \u001b[39melse\u001b[39;00m:\n\u001b[0;32m    179\u001b[0m     \u001b[39mraise\u001b[39;00m \u001b[39mNotImplementedError\u001b[39;00m(\u001b[39m\"\u001b[39m\u001b[39m'\u001b[39m\u001b[39mobj\u001b[39m\u001b[39m'\u001b[39m\u001b[39m should be a Series or a DataFrame\u001b[39m\u001b[39m\"\u001b[39m)\n\u001b[1;32m--> 181\u001b[0m s \u001b[39m=\u001b[39m writer(\n\u001b[0;32m    182\u001b[0m     obj,\n\u001b[0;32m    183\u001b[0m     orient\u001b[39m=\u001b[39;49morient,\n\u001b[0;32m    184\u001b[0m     date_format\u001b[39m=\u001b[39;49mdate_format,\n\u001b[0;32m    185\u001b[0m     double_precision\u001b[39m=\u001b[39;49mdouble_precision,\n\u001b[0;32m    186\u001b[0m     ensure_ascii\u001b[39m=\u001b[39;49mforce_ascii,\n\u001b[0;32m    187\u001b[0m     date_unit\u001b[39m=\u001b[39;49mdate_unit,\n\u001b[0;32m    188\u001b[0m     default_handler\u001b[39m=\u001b[39;49mdefault_handler,\n\u001b[0;32m    189\u001b[0m     index\u001b[39m=\u001b[39;49mindex,\n\u001b[0;32m    190\u001b[0m     indent\u001b[39m=\u001b[39;49mindent,\n\u001b[0;32m    191\u001b[0m )\u001b[39m.\u001b[39mwrite()\n\u001b[0;32m    193\u001b[0m \u001b[39mif\u001b[39;00m lines:\n\u001b[0;32m    194\u001b[0m     s \u001b[39m=\u001b[39m convert_to_line_delimits(s)\n",
      "File \u001b[1;32mc:\\Users\\clair\\AppData\\Local\\Programs\\Python\\Python311\\Lib\\site-packages\\pandas\\io\\json\\_json.py:351\u001b[0m, in \u001b[0;36mJSONTableWriter.__init__\u001b[1;34m(self, obj, orient, date_format, double_precision, ensure_ascii, date_unit, index, default_handler, indent)\u001b[0m\n\u001b[0;32m    349\u001b[0m \u001b[39m# NotImplemented on a column MultiIndex\u001b[39;00m\n\u001b[0;32m    350\u001b[0m \u001b[39mif\u001b[39;00m obj\u001b[39m.\u001b[39mndim \u001b[39m==\u001b[39m \u001b[39m2\u001b[39m \u001b[39mand\u001b[39;00m \u001b[39misinstance\u001b[39m(obj\u001b[39m.\u001b[39mcolumns, MultiIndex):\n\u001b[1;32m--> 351\u001b[0m     \u001b[39mraise\u001b[39;00m \u001b[39mNotImplementedError\u001b[39;00m(\n\u001b[0;32m    352\u001b[0m         \u001b[39m\"\u001b[39m\u001b[39morient=\u001b[39m\u001b[39m'\u001b[39m\u001b[39mtable\u001b[39m\u001b[39m'\u001b[39m\u001b[39m is not supported for MultiIndex columns\u001b[39m\u001b[39m\"\u001b[39m\n\u001b[0;32m    353\u001b[0m     )\n\u001b[0;32m    355\u001b[0m \u001b[39m# TODO: Do this timedelta properly in objToJSON.c See GH #15137\u001b[39;00m\n\u001b[0;32m    356\u001b[0m \u001b[39mif\u001b[39;00m (\n\u001b[0;32m    357\u001b[0m     (obj\u001b[39m.\u001b[39mndim \u001b[39m==\u001b[39m \u001b[39m1\u001b[39m)\n\u001b[0;32m    358\u001b[0m     \u001b[39mand\u001b[39;00m (obj\u001b[39m.\u001b[39mname \u001b[39min\u001b[39;00m \u001b[39mset\u001b[39m(obj\u001b[39m.\u001b[39mindex\u001b[39m.\u001b[39mnames))\n\u001b[0;32m    359\u001b[0m     \u001b[39mor\u001b[39;00m \u001b[39mlen\u001b[39m(obj\u001b[39m.\u001b[39mcolumns\u001b[39m.\u001b[39mintersection(obj\u001b[39m.\u001b[39mindex\u001b[39m.\u001b[39mnames))\n\u001b[0;32m    360\u001b[0m ):\n",
      "\u001b[1;31mNotImplementedError\u001b[0m: orient='table' is not supported for MultiIndex columns"
     ]
    }
   ],
   "source": [
    "result = stats.to_json(orient = \"table\")\n",
    "parsed = loads(result)\n",
    "dumps(parsed, indent=4)  "
   ]
  },
  {
   "cell_type": "code",
   "execution_count": null,
   "metadata": {},
   "outputs": [
    {
     "data": {
      "text/plain": [
       "'{\"(\\'amount_scammed\\', \\'min\\')\":{\"ABS\":0.0,\"ANT\":2.0,\"ANZ\":7606.7,\"Aleta Planet\":40.0,\"Alipay\":40.0,\"BOC\":0.0,\"Binance\":0.0,\"CIMB\":0.0,\"CITI\":0.0,\"COINHAKO\":5989.0,\"Citi\":2900.0,\"CoinHako\":2890.0,\"Coinhako\":0.0,\"Crypto.Com\":9150.0,\"Crypto.com\":0.0,\"DASH\":0.0,\"DBS\\\\/POSB\":0.0,\"Dash\":0.0,\"FomoPay\":0.0,\"GET\":75.0,\"GRAB\":0.0,\"GXS\":0.0,\"Gemini\":0.0,\"Grab\":0.0,\"HLB\":0.0,\"HSBC\":0.0,\"HitPay\":742.35,\"ICBC\":0.0,\"ICICI\":0.0,\"Independent Reserve\":0.0,\"JP Morgan\":0.0,\"Luno\":0.0,\"MBB\":0.0,\"Matchmove\":0.0,\"NIUM\":0.0,\"O-AM (MY)\":820.0,\"O-AMBank (MY)\":0.0,\"O-Agri BoC (CN)\":447.07,\"O-BEA (HK)\":39780.0,\"O-BOC (CN)\":60000.0,\"O-BOC (HK)\":0.0,\"O-BOC (MY)\":3000.0,\"O-BOEA (HK)\":43000.0,\"O-BoCC (CN)\":1026.15,\"O-CCB (CN)\":414.8,\"O-CIMB (MY)\":0.0,\"O-CIMB (MYS)\":3391.44,\"O-CIMB (Others)\":0.0,\"O-CITI (Others)\":0.0,\"O-CITI (US)\":654606.67,\"O-DBS (HK)\":0.0,\"O-DBS (IN)\":1204.99,\"O-HDFC (IN)\":8700.01,\"O-HLB (MY)\":0.0,\"O-HLB (Others)\":43866.0,\"O-HSBC\":435120.0,\"O-HSBC (HK)\":0.0,\"O-HSBC (MY)\":187.92,\"O-HSBC (UK)\":3844.0,\"O-ICBC (CN)\":21002.0,\"O-ICBC (HK)\":12000.0,\"O-MBB\":1000.14,\"O-MBB (MY)\":0.0,\"O-MBB (Others)\":62000.0,\"O-NCB (HK)\":177800.0,\"O-OCBC (HK)\":2700.0,\"O-OCBC Wing Hang (HK)\":360000.0,\"O-Others (Belgium)\":990.09,\"O-Others (CN)\":0.0,\"O-Others (HK)\":0.0,\"O-Others (IDS)\":0.0,\"O-Others (IN)\":0.0,\"O-Others (IND)\":1081.0,\"O-Others (India - UPI)\":1500.0,\"O-Others (MY - Duitpay)\":0.0,\"O-Others (MY)\":0.0,\"O-Others (Myanmar)\":382.0,\"O-Others (Others)\":0.0,\"O-Others (PH)\":18038.64,\"O-Others (TH - PromptPay)\":0.0,\"O-Others (UAE)\":58443.32,\"O-Others (UK)\":966.0,\"O-PBB (MY)\":478.89,\"O-PSBC (CN)\":151278.0,\"O-Public Bank\":885.69,\"O-RHB (MY)\":66.67,\"O-RHB (MYS)\":179.0,\"O-RHB (Others)\":15000.0,\"O-SBI (IN)\":541.84,\"O-SBI (Others)\":1006.84,\"O-SCB\":217560.0,\"O-SCB (HK)\":0.0,\"O-UOB (Others)\":0.0,\"O-Wells Fargo (US)\":10615.11,\"OCBC\":0.0,\"Offgamers\":15.0,\"PAYRNET\":650.0,\"PayLah\":200.0,\"Paylah\":0.0,\"Paynow\":0.0,\"Payoneer\":0.0,\"PayrNet\":100.0,\"Payrnet\":0.0,\"Qoo10\":195.12,\"Quoine\":0.0,\"RAPYD\":50.0,\"RHB\":0.0,\"Rapyd\":0.0,\"Razer\":0.0,\"Revolut\":0.0,\"SBI\":0.0,\"SCB\":0.0,\"Singpass\":0.0,\"Tokenize\":0.0,\"Trust Bank\":0.0,\"UOB\":0.0,\"WISE\":0.0,\"Wise\":0.0,\"Xfers\":0.0,\"Zipmex\":0.0,\"eRemit \\\\/ KLIQ\":173.5},\"(\\'amount_scammed\\', \\'max\\')\":{\"ABS\":43259.62,\"ANT\":2.0,\"ANZ\":11000.0,\"Aleta Planet\":40.0,\"Alipay\":232.17,\"BOC\":89458.0,\"Binance\":2178.96,\"CIMB\":1328095.8100000001,\"CITI\":102000.0,\"COINHAKO\":5989.0,\"Citi\":2900.0,\"CoinHako\":39739.0,\"Coinhako\":50000.0,\"Crypto.Com\":109550.0,\"Crypto.com\":693298.0,\"DASH\":6000.0,\"DBS\\\\/POSB\":11736000.0,\"Dash\":1500.0,\"FomoPay\":2000.0,\"GET\":85.0,\"GRAB\":1680.0,\"GXS\":2800.0,\"Gemini\":377889.0,\"Grab\":9000.0,\"HLB\":16000.0,\"HSBC\":679000.0,\"HitPay\":1000.0,\"ICBC\":95570.0,\"ICICI\":0.0,\"Independent Reserve\":100000.0,\"JP Morgan\":150020.0,\"Luno\":30000.0,\"MBB\":940000.0,\"Matchmove\":94999.0,\"NIUM\":115000.0,\"O-AM (MY)\":50000.0,\"O-AMBank (MY)\":0.0,\"O-Agri BoC (CN)\":96464.0,\"O-BEA (HK)\":101875.61,\"O-BOC (CN)\":60000.0,\"O-BOC (HK)\":639603.67,\"O-BOC (MY)\":3000.0,\"O-BOEA (HK)\":50000.0,\"O-BoCC (CN)\":99186.14,\"O-CCB (CN)\":101276.0,\"O-CIMB (MY)\":252882.89,\"O-CIMB (MYS)\":3391.44,\"O-CIMB (Others)\":21000.0,\"O-CITI (Others)\":0.0,\"O-CITI (US)\":654606.67,\"O-DBS (HK)\":0.0,\"O-DBS (IN)\":9001.47,\"O-HDFC (IN)\":8700.01,\"O-HLB (MY)\":31860.42,\"O-HLB (Others)\":43866.0,\"O-HSBC\":435120.0,\"O-HSBC (HK)\":397500.0,\"O-HSBC (MY)\":6300.0,\"O-HSBC (UK)\":24737.84,\"O-ICBC (CN)\":63006.0,\"O-ICBC (HK)\":85800.0,\"O-MBB\":1000.14,\"O-MBB (MY)\":150000.0,\"O-MBB (Others)\":62000.0,\"O-NCB (HK)\":177800.0,\"O-OCBC (HK)\":2700.0,\"O-OCBC Wing Hang (HK)\":360000.0,\"O-Others (Belgium)\":990.09,\"O-Others (CN)\":77668.0,\"O-Others (HK)\":2246303.1499999999,\"O-Others (IDS)\":6100.0,\"O-Others (IN)\":8503.22,\"O-Others (IND)\":1081.0,\"O-Others (India - UPI)\":1500.0,\"O-Others (MY - Duitpay)\":0.0,\"O-Others (MY)\":229905.0,\"O-Others (Myanmar)\":382.0,\"O-Others (Others)\":2992743.0,\"O-Others (PH)\":18038.64,\"O-Others (TH - PromptPay)\":2000.0,\"O-Others (UAE)\":58443.32,\"O-Others (UK)\":321184.99,\"O-PBB (MY)\":6800.0,\"O-PSBC (CN)\":151278.0,\"O-Public Bank\":885.69,\"O-RHB (MY)\":15559.63,\"O-RHB (MYS)\":179.0,\"O-RHB (Others)\":15000.0,\"O-SBI (IN)\":2999.96,\"O-SBI (Others)\":1006.84,\"O-SCB\":217560.0,\"O-SCB (HK)\":1353821.99,\"O-UOB (Others)\":0.0,\"O-Wells Fargo (US)\":36144.78,\"OCBC\":12520968.0,\"Offgamers\":15.0,\"PAYRNET\":650.0,\"PayLah\":999.0,\"Paylah\":38600.0,\"Paynow\":20000.0,\"Payoneer\":32685.5,\"PayrNet\":245000.0,\"Payrnet\":149000.0,\"Qoo10\":990.0,\"Quoine\":68500.0,\"RAPYD\":2000.0,\"RHB\":79100.0,\"Rapyd\":73000.0,\"Razer\":4400.0,\"Revolut\":80000.0,\"SBI\":1138.53,\"SCB\":1456795.27,\"Singpass\":0.0,\"Tokenize\":0.0,\"Trust Bank\":85000.0,\"UOB\":2260000.0,\"WISE\":156640.0,\"Wise\":155000.0,\"Xfers\":70100.0,\"Zipmex\":137000.0,\"eRemit \\\\/ KLIQ\":1000.0},\"(\\'amount_scammed\\', \\'sum\\')\":{\"ABS\":79604.54,\"ANT\":2.0,\"ANZ\":18606.7,\"Aleta Planet\":40.0,\"Alipay\":12889.88,\"BOC\":312748.27,\"Binance\":3000.96,\"CIMB\":50211350.0,\"CITI\":687418.1,\"COINHAKO\":5989.0,\"Citi\":2900.0,\"CoinHako\":56278.0,\"Coinhako\":530278.0,\"Crypto.Com\":140350.0,\"Crypto.com\":3367243.73,\"DASH\":205522.54,\"DBS\\\\/POSB\":182806758.9799999893,\"Dash\":2870.0,\"FomoPay\":2000.0,\"GET\":160.0,\"GRAB\":30589.18,\"GXS\":19676.5,\"Gemini\":731753.0,\"Grab\":546598.4300000001,\"HLB\":145416.95,\"HSBC\":54140283.3400000036,\"HitPay\":1742.35,\"ICBC\":404329.85,\"ICICI\":0.0,\"Independent Reserve\":194400.0,\"JP Morgan\":600517.9400000001,\"Luno\":74661.0,\"MBB\":5611070.2199999997,\"Matchmove\":827892.37,\"NIUM\":365951.81,\"O-AM (MY)\":75577.87,\"O-AMBank (MY)\":0.0,\"O-Agri BoC (CN)\":333470.88,\"O-BEA (HK)\":141655.61,\"O-BOC (CN)\":60000.0,\"O-BOC (HK)\":977542.63,\"O-BOC (MY)\":3000.0,\"O-BOEA (HK)\":93000.0,\"O-BoCC (CN)\":365519.96,\"O-CCB (CN)\":325659.37,\"O-CIMB (MY)\":982882.0600000001,\"O-CIMB (MYS)\":3391.44,\"O-CIMB (Others)\":56300.0,\"O-CITI (Others)\":0.0,\"O-CITI (US)\":654606.67,\"O-DBS (HK)\":0.0,\"O-DBS (IN)\":16706.36,\"O-HDFC (IN)\":8700.01,\"O-HLB (MY)\":49591.44,\"O-HLB (Others)\":43866.0,\"O-HSBC\":435120.0,\"O-HSBC (HK)\":973905.0699999999,\"O-HSBC (MY)\":15884.58,\"O-HSBC (UK)\":28581.84,\"O-ICBC (CN)\":105010.0,\"O-ICBC (HK)\":147788.0,\"O-MBB\":1000.14,\"O-MBB (MY)\":466409.65,\"O-MBB (Others)\":62000.0,\"O-NCB (HK)\":177800.0,\"O-OCBC (HK)\":2700.0,\"O-OCBC Wing Hang (HK)\":360000.0,\"O-Others (Belgium)\":990.09,\"O-Others (CN)\":806302.1800000001,\"O-Others (HK)\":3235325.54,\"O-Others (IDS)\":12083.8,\"O-Others (IN)\":30571.9,\"O-Others (IND)\":1081.0,\"O-Others (India - UPI)\":1500.0,\"O-Others (MY - Duitpay)\":0.0,\"O-Others (MY)\":930821.59,\"O-Others (Myanmar)\":382.0,\"O-Others (Others)\":18884578.120000001,\"O-Others (PH)\":18038.64,\"O-Others (TH - PromptPay)\":424931.6,\"O-Others (UAE)\":58443.32,\"O-Others (UK)\":325350.3799999999,\"O-PBB (MY)\":19836.23,\"O-PSBC (CN)\":151278.0,\"O-Public Bank\":885.69,\"O-RHB (MY)\":21826.3,\"O-RHB (MYS)\":179.0,\"O-RHB (Others)\":15000.0,\"O-SBI (IN)\":3541.8,\"O-SBI (Others)\":1006.84,\"O-SCB\":217560.0,\"O-SCB (HK)\":2284942.8700000001,\"O-UOB (Others)\":0.0,\"O-Wells Fargo (US)\":46759.89,\"OCBC\":53757926.7599999979,\"Offgamers\":15.0,\"PAYRNET\":650.0,\"PayLah\":1519.0,\"Paylah\":587726.87,\"Paynow\":26201.97,\"Payoneer\":55402.5,\"PayrNet\":425976.99,\"Payrnet\":229380.0,\"Qoo10\":1185.12,\"Quoine\":301150.67,\"RAPYD\":5050.0,\"RHB\":772364.25,\"Rapyd\":838286.08,\"Razer\":122053.06,\"Revolut\":143151.01,\"SBI\":3347.38,\"SCB\":126029197.9800000042,\"Singpass\":0.0,\"Tokenize\":0.0,\"Trust Bank\":1073558.1499999999,\"UOB\":102040184.6800000072,\"WISE\":594929.02,\"Wise\":1412779.1899999999,\"Xfers\":324431.55,\"Zipmex\":399105.0,\"eRemit \\\\/ KLIQ\":4630.0},\"(\\'amount_scammed\\', \\'mean\\')\":{\"ABS\":2341.31,\"ANT\":2.0,\"ANZ\":9303.35,\"Aleta Planet\":40.0,\"Alipay\":79.0790184049,\"BOC\":7818.70675,\"Binance\":750.24,\"CIMB\":4856.499661476,\"CITI\":4840.9725352113,\"COINHAKO\":5989.0,\"Citi\":2900.0,\"CoinHako\":18759.3333333333,\"Coinhako\":7798.2058823529,\"Crypto.Com\":46783.3333333333,\"Crypto.com\":88611.6771052632,\"DASH\":648.3360883281,\"DBS\\\\/POSB\":11752.2828016715,\"Dash\":717.5,\"FomoPay\":1000.0,\"GET\":80.0,\"GRAB\":436.9882857143,\"GXS\":546.5694444444,\"Gemini\":27101.962962963,\"Grab\":580.2531104034,\"HLB\":2423.6158333333,\"HSBC\":7488.2826196404,\"HitPay\":871.175,\"ICBC\":8423.5385416667,\"ICICI\":0.0,\"Independent Reserve\":21600.0,\"JP Morgan\":30025.897,\"Luno\":6221.75,\"MBB\":11738.6406276151,\"Matchmove\":12736.8056923077,\"NIUM\":17426.2766666667,\"O-AM (MY)\":10796.8385714286,\"O-AMBank (MY)\":0.0,\"O-Agri BoC (CN)\":13338.8352,\"O-BEA (HK)\":70827.805,\"O-BOC (CN)\":60000.0,\"O-BOC (HK)\":108615.8477777778,\"O-BOC (MY)\":3000.0,\"O-BOEA (HK)\":46500.0,\"O-BoCC (CN)\":40613.3288888889,\"O-CCB (CN)\":32565.937,\"O-CIMB (MY)\":13843.4092957746,\"O-CIMB (MYS)\":3391.44,\"O-CIMB (Others)\":11260.0,\"O-CITI (Others)\":0.0,\"O-CITI (US)\":654606.67,\"O-DBS (HK)\":0.0,\"O-DBS (IN)\":3341.272,\"O-HDFC (IN)\":8700.01,\"O-HLB (MY)\":4959.144,\"O-HLB (Others)\":43866.0,\"O-HSBC\":435120.0,\"O-HSBC (HK)\":88536.8245454545,\"O-HSBC (MY)\":3176.916,\"O-HSBC (UK)\":14290.92,\"O-ICBC (CN)\":35003.3333333333,\"O-ICBC (HK)\":49262.6666666667,\"O-MBB\":1000.14,\"O-MBB (MY)\":7175.5330769231,\"O-MBB (Others)\":62000.0,\"O-NCB (HK)\":177800.0,\"O-OCBC (HK)\":2700.0,\"O-OCBC Wing Hang (HK)\":360000.0,\"O-Others (Belgium)\":990.09,\"O-Others (CN)\":18751.2134883721,\"O-Others (HK)\":161766.277,\"O-Others (IDS)\":1510.475,\"O-Others (IN)\":1698.4388888889,\"O-Others (IND)\":1081.0,\"O-Others (India - UPI)\":1500.0,\"O-Others (MY - Duitpay)\":0.0,\"O-Others (MY)\":6648.7256428571,\"O-Others (Myanmar)\":382.0,\"O-Others (Others)\":43017.2622323462,\"O-Others (PH)\":18038.64,\"O-Others (TH - PromptPay)\":528.5218905473,\"O-Others (UAE)\":58443.32,\"O-Others (UK)\":81337.595,\"O-PBB (MY)\":3967.246,\"O-PSBC (CN)\":151278.0,\"O-Public Bank\":885.69,\"O-RHB (MY)\":7275.4333333333,\"O-RHB (MYS)\":179.0,\"O-RHB (Others)\":15000.0,\"O-SBI (IN)\":1770.9,\"O-SBI (Others)\":1006.84,\"O-SCB\":217560.0,\"O-SCB (HK)\":108806.8033333333,\"O-UOB (Others)\":0.0,\"O-Wells Fargo (US)\":23379.945,\"OCBC\":9800.8982242479,\"Offgamers\":15.0,\"PAYRNET\":650.0,\"PayLah\":506.3333333333,\"Paylah\":1045.7773487544,\"Paynow\":3275.24625,\"Payoneer\":6925.3125,\"PayrNet\":47330.7766666667,\"Payrnet\":10922.8571428571,\"Qoo10\":592.56,\"Quoine\":6145.9320408163,\"RAPYD\":841.6666666667,\"RHB\":5637.6952554745,\"Rapyd\":1862.8579555556,\"Razer\":227.2868901304,\"Revolut\":1645.413908046,\"SBI\":418.4225,\"SCB\":6893.6220315064,\"Singpass\":0.0,\"Tokenize\":0.0,\"Trust Bank\":3214.2459580838,\"UOB\":5088.7784101337,\"WISE\":5359.7209009009,\"Wise\":8775.0260248447,\"Xfers\":13517.98125,\"Zipmex\":49888.125,\"eRemit \\\\/ KLIQ\":771.6666666667},\"(\\'reaction_time\\', \\'min\\')\":{\"ABS\":null,\"ANT\":null,\"ANZ\":null,\"Aleta Planet\":null,\"Alipay\":null,\"BOC\":0,\"Binance\":null,\"CIMB\":-864000000,\"CITI\":0,\"COINHAKO\":null,\"Citi\":0,\"CoinHako\":null,\"Coinhako\":-10108800000,\"Crypto.Com\":null,\"Crypto.com\":0,\"DASH\":0,\"DBS\\\\/POSB\":-68774400000,\"Dash\":0,\"FomoPay\":0,\"GET\":null,\"GRAB\":0,\"GXS\":0,\"Gemini\":0,\"Grab\":0,\"HLB\":0,\"HSBC\":-864000000,\"HitPay\":null,\"ICBC\":0,\"ICICI\":null,\"Independent Reserve\":null,\"JP Morgan\":0,\"Luno\":0,\"MBB\":0,\"Matchmove\":0,\"NIUM\":null,\"O-AM (MY)\":null,\"O-AMBank (MY)\":null,\"O-Agri BoC (CN)\":null,\"O-BEA (HK)\":null,\"O-BOC (CN)\":null,\"O-BOC (HK)\":null,\"O-BOC (MY)\":null,\"O-BOEA (HK)\":null,\"O-BoCC (CN)\":null,\"O-CCB (CN)\":null,\"O-CIMB (MY)\":null,\"O-CIMB (MYS)\":null,\"O-CIMB (Others)\":null,\"O-CITI (Others)\":null,\"O-CITI (US)\":null,\"O-DBS (HK)\":null,\"O-DBS (IN)\":null,\"O-HDFC (IN)\":null,\"O-HLB (MY)\":null,\"O-HLB (Others)\":null,\"O-HSBC\":null,\"O-HSBC (HK)\":0,\"O-HSBC (MY)\":null,\"O-HSBC (UK)\":null,\"O-ICBC (CN)\":null,\"O-ICBC (HK)\":null,\"O-MBB\":null,\"O-MBB (MY)\":null,\"O-MBB (Others)\":null,\"O-NCB (HK)\":null,\"O-OCBC (HK)\":null,\"O-OCBC Wing Hang (HK)\":null,\"O-Others (Belgium)\":null,\"O-Others (CN)\":null,\"O-Others (HK)\":null,\"O-Others (IDS)\":null,\"O-Others (IN)\":null,\"O-Others (IND)\":null,\"O-Others (India - UPI)\":null,\"O-Others (MY - Duitpay)\":null,\"O-Others (MY)\":null,\"O-Others (Myanmar)\":null,\"O-Others (Others)\":null,\"O-Others (PH)\":null,\"O-Others (TH - PromptPay)\":null,\"O-Others (UAE)\":0,\"O-Others (UK)\":null,\"O-PBB (MY)\":null,\"O-PSBC (CN)\":null,\"O-Public Bank\":null,\"O-RHB (MY)\":null,\"O-RHB (MYS)\":null,\"O-RHB (Others)\":null,\"O-SBI (IN)\":null,\"O-SBI (Others)\":null,\"O-SCB\":null,\"O-SCB (HK)\":null,\"O-UOB (Others)\":null,\"O-Wells Fargo (US)\":null,\"OCBC\":-86400000,\"Offgamers\":0,\"PAYRNET\":null,\"PayLah\":null,\"Paylah\":0,\"Paynow\":0,\"Payoneer\":0,\"PayrNet\":0,\"Payrnet\":null,\"Qoo10\":0,\"Quoine\":0,\"RAPYD\":null,\"RHB\":-21945600000,\"Rapyd\":0,\"Razer\":0,\"Revolut\":null,\"SBI\":null,\"SCB\":-2937600000,\"Singpass\":0,\"Tokenize\":0,\"Trust Bank\":0,\"UOB\":-777600000,\"WISE\":0,\"Wise\":0,\"Xfers\":0,\"Zipmex\":0,\"eRemit \\\\/ KLIQ\":0},\"(\\'reaction_time\\', \\'max\\')\":{\"ABS\":null,\"ANT\":null,\"ANZ\":null,\"Aleta Planet\":null,\"Alipay\":null,\"BOC\":432000000,\"Binance\":null,\"CIMB\":1555200000,\"CITI\":518400000,\"COINHAKO\":null,\"Citi\":0,\"CoinHako\":null,\"Coinhako\":0,\"Crypto.Com\":null,\"Crypto.com\":0,\"DASH\":86400000,\"DBS\\\\/POSB\":3974400000,\"Dash\":0,\"FomoPay\":0,\"GET\":null,\"GRAB\":0,\"GXS\":0,\"Gemini\":0,\"Grab\":86400000,\"HLB\":86400000,\"HSBC\":5356800000,\"HitPay\":null,\"ICBC\":86400000,\"ICICI\":null,\"Independent Reserve\":null,\"JP Morgan\":86400000,\"Luno\":0,\"MBB\":345600000,\"Matchmove\":0,\"NIUM\":null,\"O-AM (MY)\":null,\"O-AMBank (MY)\":null,\"O-Agri BoC (CN)\":null,\"O-BEA (HK)\":null,\"O-BOC (CN)\":null,\"O-BOC (HK)\":null,\"O-BOC (MY)\":null,\"O-BOEA (HK)\":null,\"O-BoCC (CN)\":null,\"O-CCB (CN)\":null,\"O-CIMB (MY)\":null,\"O-CIMB (MYS)\":null,\"O-CIMB (Others)\":null,\"O-CITI (Others)\":null,\"O-CITI (US)\":null,\"O-DBS (HK)\":null,\"O-DBS (IN)\":null,\"O-HDFC (IN)\":null,\"O-HLB (MY)\":null,\"O-HLB (Others)\":null,\"O-HSBC\":null,\"O-HSBC (HK)\":0,\"O-HSBC (MY)\":null,\"O-HSBC (UK)\":null,\"O-ICBC (CN)\":null,\"O-ICBC (HK)\":null,\"O-MBB\":null,\"O-MBB (MY)\":null,\"O-MBB (Others)\":null,\"O-NCB (HK)\":null,\"O-OCBC (HK)\":null,\"O-OCBC Wing Hang (HK)\":null,\"O-Others (Belgium)\":null,\"O-Others (CN)\":null,\"O-Others (HK)\":null,\"O-Others (IDS)\":null,\"O-Others (IN)\":null,\"O-Others (IND)\":null,\"O-Others (India - UPI)\":null,\"O-Others (MY - Duitpay)\":null,\"O-Others (MY)\":null,\"O-Others (Myanmar)\":null,\"O-Others (Others)\":null,\"O-Others (PH)\":null,\"O-Others (TH - PromptPay)\":null,\"O-Others (UAE)\":0,\"O-Others (UK)\":null,\"O-PBB (MY)\":null,\"O-PSBC (CN)\":null,\"O-Public Bank\":null,\"O-RHB (MY)\":null,\"O-RHB (MYS)\":null,\"O-RHB (Others)\":null,\"O-SBI (IN)\":null,\"O-SBI (Others)\":null,\"O-SCB\":null,\"O-SCB (HK)\":null,\"O-UOB (Others)\":null,\"O-Wells Fargo (US)\":null,\"OCBC\":2332800000,\"Offgamers\":0,\"PAYRNET\":null,\"PayLah\":null,\"Paylah\":1468800000,\"Paynow\":0,\"Payoneer\":0,\"PayrNet\":0,\"Payrnet\":null,\"Qoo10\":0,\"Quoine\":0,\"RAPYD\":null,\"RHB\":345600000,\"Rapyd\":0,\"Razer\":604800000,\"Revolut\":null,\"SBI\":null,\"SCB\":172800000,\"Singpass\":0,\"Tokenize\":0,\"Trust Bank\":86400000,\"UOB\":4233600000,\"WISE\":0,\"Wise\":86400000,\"Xfers\":0,\"Zipmex\":0,\"eRemit \\\\/ KLIQ\":0},\"(\\'reaction_time\\', \\'sum\\')\":{\"ABS\":0,\"ANT\":0,\"ANZ\":0,\"Aleta Planet\":0,\"Alipay\":0,\"BOC\":777600000,\"Binance\":0,\"CIMB\":171331200000,\"CITI\":5702400000,\"COINHAKO\":0,\"Citi\":0,\"CoinHako\":0,\"Coinhako\":-34732800000,\"Crypto.Com\":0,\"Crypto.com\":0,\"DASH\":86400000,\"DBS\\\\/POSB\":134092800000,\"Dash\":0,\"FomoPay\":0,\"GET\":0,\"GRAB\":0,\"GXS\":0,\"Gemini\":0,\"Grab\":864000000,\"HLB\":172800000,\"HSBC\":1150416000000,\"HitPay\":0,\"ICBC\":172800000,\"ICICI\":0,\"Independent Reserve\":0,\"JP Morgan\":86400000,\"Luno\":0,\"MBB\":9072000000,\"Matchmove\":0,\"NIUM\":0,\"O-AM (MY)\":0,\"O-AMBank (MY)\":0,\"O-Agri BoC (CN)\":0,\"O-BEA (HK)\":0,\"O-BOC (CN)\":0,\"O-BOC (HK)\":0,\"O-BOC (MY)\":0,\"O-BOEA (HK)\":0,\"O-BoCC (CN)\":0,\"O-CCB (CN)\":0,\"O-CIMB (MY)\":0,\"O-CIMB (MYS)\":0,\"O-CIMB (Others)\":0,\"O-CITI (Others)\":0,\"O-CITI (US)\":0,\"O-DBS (HK)\":0,\"O-DBS (IN)\":0,\"O-HDFC (IN)\":0,\"O-HLB (MY)\":0,\"O-HLB (Others)\":0,\"O-HSBC\":0,\"O-HSBC (HK)\":0,\"O-HSBC (MY)\":0,\"O-HSBC (UK)\":0,\"O-ICBC (CN)\":0,\"O-ICBC (HK)\":0,\"O-MBB\":0,\"O-MBB (MY)\":0,\"O-MBB (Others)\":0,\"O-NCB (HK)\":0,\"O-OCBC (HK)\":0,\"O-OCBC Wing Hang (HK)\":0,\"O-Others (Belgium)\":0,\"O-Others (CN)\":0,\"O-Others (HK)\":0,\"O-Others (IDS)\":0,\"O-Others (IN)\":0,\"O-Others (IND)\":0,\"O-Others (India - UPI)\":0,\"O-Others (MY - Duitpay)\":0,\"O-Others (MY)\":0,\"O-Others (Myanmar)\":0,\"O-Others (Others)\":0,\"O-Others (PH)\":0,\"O-Others (TH - PromptPay)\":0,\"O-Others (UAE)\":0,\"O-Others (UK)\":0,\"O-PBB (MY)\":0,\"O-PSBC (CN)\":0,\"O-Public Bank\":0,\"O-RHB (MY)\":0,\"O-RHB (MYS)\":0,\"O-RHB (Others)\":0,\"O-SBI (IN)\":0,\"O-SBI (Others)\":0,\"O-SCB\":0,\"O-SCB (HK)\":0,\"O-UOB (Others)\":0,\"O-Wells Fargo (US)\":0,\"OCBC\":154656000000,\"Offgamers\":0,\"PAYRNET\":0,\"PayLah\":0,\"Paylah\":3542400000,\"Paynow\":0,\"Payoneer\":0,\"PayrNet\":0,\"Payrnet\":0,\"Qoo10\":0,\"Quoine\":0,\"RAPYD\":0,\"RHB\":-16502400000,\"Rapyd\":0,\"Razer\":1209600000,\"Revolut\":0,\"SBI\":0,\"SCB\":34300800000,\"Singpass\":0,\"Tokenize\":0,\"Trust Bank\":1728000000,\"UOB\":697939200000,\"WISE\":0,\"Wise\":86400000,\"Xfers\":0,\"Zipmex\":0,\"eRemit \\\\/ KLIQ\":0},\"(\\'reaction_time\\', \\'mean\\')\":{\"ABS\":null,\"ANT\":null,\"ANZ\":null,\"Aleta Planet\":null,\"Alipay\":null,\"BOC\":38880000,\"Binance\":null,\"CIMB\":16697319,\"CITI\":44204651,\"COINHAKO\":null,\"Citi\":0,\"CoinHako\":null,\"Coinhako\":-3859200000,\"Crypto.Com\":null,\"Crypto.com\":0,\"DASH\":3756521,\"DBS\\\\/POSB\":8827702,\"Dash\":0,\"FomoPay\":0,\"GET\":null,\"GRAB\":0,\"GXS\":0,\"Gemini\":0,\"Grab\":14644067,\"HLB\":6646153,\"HSBC\":160627757,\"HitPay\":null,\"ICBC\":9094736,\"ICICI\":null,\"Independent Reserve\":null,\"JP Morgan\":7200000,\"Luno\":0,\"MBB\":20759725,\"Matchmove\":0,\"NIUM\":null,\"O-AM (MY)\":null,\"O-AMBank (MY)\":null,\"O-Agri BoC (CN)\":null,\"O-BEA (HK)\":null,\"O-BOC (CN)\":null,\"O-BOC (HK)\":null,\"O-BOC (MY)\":null,\"O-BOEA (HK)\":null,\"O-BoCC (CN)\":null,\"O-CCB (CN)\":null,\"O-CIMB (MY)\":null,\"O-CIMB (MYS)\":null,\"O-CIMB (Others)\":null,\"O-CITI (Others)\":null,\"O-CITI (US)\":null,\"O-DBS (HK)\":null,\"O-DBS (IN)\":null,\"O-HDFC (IN)\":null,\"O-HLB (MY)\":null,\"O-HLB (Others)\":null,\"O-HSBC\":null,\"O-HSBC (HK)\":0,\"O-HSBC (MY)\":null,\"O-HSBC (UK)\":null,\"O-ICBC (CN)\":null,\"O-ICBC (HK)\":null,\"O-MBB\":null,\"O-MBB (MY)\":null,\"O-MBB (Others)\":null,\"O-NCB (HK)\":null,\"O-OCBC (HK)\":null,\"O-OCBC Wing Hang (HK)\":null,\"O-Others (Belgium)\":null,\"O-Others (CN)\":null,\"O-Others (HK)\":null,\"O-Others (IDS)\":null,\"O-Others (IN)\":null,\"O-Others (IND)\":null,\"O-Others (India - UPI)\":null,\"O-Others (MY - Duitpay)\":null,\"O-Others (MY)\":null,\"O-Others (Myanmar)\":null,\"O-Others (Others)\":null,\"O-Others (PH)\":null,\"O-Others (TH - PromptPay)\":null,\"O-Others (UAE)\":0,\"O-Others (UK)\":null,\"O-PBB (MY)\":null,\"O-PSBC (CN)\":null,\"O-Public Bank\":null,\"O-RHB (MY)\":null,\"O-RHB (MYS)\":null,\"O-RHB (Others)\":null,\"O-SBI (IN)\":null,\"O-SBI (Others)\":null,\"O-SCB\":null,\"O-SCB (HK)\":null,\"O-UOB (Others)\":null,\"O-Wells Fargo (US)\":null,\"OCBC\":28613506,\"Offgamers\":0,\"PAYRNET\":null,\"PayLah\":null,\"Paylah\":35073267,\"Paynow\":0,\"Payoneer\":0,\"PayrNet\":0,\"Payrnet\":null,\"Qoo10\":0,\"Quoine\":0,\"RAPYD\":null,\"RHB\":-132019200,\"Rapyd\":0,\"Razer\":11520000,\"Revolut\":null,\"SBI\":null,\"SCB\":1890684,\"Singpass\":0,\"Tokenize\":0,\"Trust Bank\":5173652,\"UOB\":35173068,\"WISE\":0,\"Wise\":3600000,\"Xfers\":0,\"Zipmex\":0,\"eRemit \\\\/ KLIQ\":0}}'"
      ]
     },
     "execution_count": 84,
     "metadata": {},
     "output_type": "execute_result"
    }
   ],
   "source": [
    "stats_dict"
   ]
  },
  {
   "attachments": {},
   "cell_type": "markdown",
   "metadata": {},
   "source": [
    "Recovery Typology"
   ]
  },
  {
   "cell_type": "code",
   "execution_count": 3,
   "metadata": {},
   "outputs": [
    {
     "name": "stderr",
     "output_type": "stream",
     "text": [
      "C:\\Users\\clair\\AppData\\Local\\Temp\\ipykernel_30812\\4044571984.py:1: UserWarning: pandas only supports SQLAlchemy connectable (engine/connection) or database string URI or sqlite3 DBAPI2 connection. Other DBAPI2 objects are not tested. Please consider using SQLAlchemy.\n",
      "  df = pd.read_sql_query(\"\"\"SELECT latest_balance_seized, amount_scammed, scam_type\n"
     ]
    }
   ],
   "source": [
    "\n",
    "df = pd.read_sql_query(\"\"\"SELECT latest_balance_seized, amount_scammed, scam_type\n",
    "FROM scam_management_system order by scam_type asc\"\"\", connection)"
   ]
  },
  {
   "cell_type": "code",
   "execution_count": 31,
   "metadata": {},
   "outputs": [
    {
     "name": "stderr",
     "output_type": "stream",
     "text": [
      "C:\\Users\\clair\\AppData\\Local\\Temp\\ipykernel_30812\\2375008259.py:1: UserWarning: pandas only supports SQLAlchemy connectable (engine/connection) or database string URI or sqlite3 DBAPI2 connection. Other DBAPI2 objects are not tested. Please consider using SQLAlchemy.\n",
      "  df = pd.read_sql_query(\"\"\"SELECT latest_balance_seized, amount_scammed, scam_type\n"
     ]
    }
   ],
   "source": [
    "\n",
    "df = pd.read_sql_query(\"\"\"SELECT latest_balance_seized, amount_scammed, scam_type\n",
    "FROM scam_management_system order by scam_type asc\"\"\", connection)\n",
    "\n",
    "###   Data Processing\n",
    "\n",
    "#   settling typos\n",
    "df['scam_type'] = df['scam_type'].str.title()\n",
    "\n",
    "#   sum and grouping records by scam_type\n",
    "groupedDf = df.groupby('scam_type').sum()\n",
    "\n",
    "# print(groupedDf)\n",
    "\n",
    "#   settling typos\n",
    "groupedDf.loc['Loan Scam']+=groupedDf.loc['Loan Scan']\n",
    "groupedDf = groupedDf.drop(index = 'Loan Scan')\n",
    "groupedDf = groupedDf.rename(index={\n",
    "    'Bank Phishing Sms Scam': 'Bank Phishing SMS Scam',\n",
    "    'Bec Scam': 'BEC Scam',\n",
    "    'Cois': 'COIS',\n",
    "    'Fgps': 'FGPS',\n",
    "    'Gois': 'GOIS',\n",
    "    'Osss': 'OSSS',\n",
    "    'Non-Bank Phishing Sms Scam': 'Non-Bank Phishing SMS Scam'})\n",
    "\n",
    "#   calculating recovery \n",
    "groupedDf['recovery'] = None\n",
    "\n",
    "for scam in groupedDf.index:\n",
    "    if groupedDf.at[scam,'latest_balance_seized'] >= groupedDf.at[scam,'amount_scammed']:\n",
    "        groupedDf.at[scam, 'recovery'] = groupedDf.at[scam,'amount_scammed']\n",
    "    else:\n",
    "        groupedDf.at[scam, 'recovery'] = groupedDf.at[scam,'latest_balance_seized']\n",
    "\n",
    "banks = groupedDf.index.to_list()\n",
    "recovery_list = groupedDf.loc[:,'recovery'].to_list()\n",
    "\n"
   ]
  },
  {
   "cell_type": "code",
   "execution_count": 39,
   "metadata": {},
   "outputs": [
    {
     "data": {
      "text/plain": [
       "array(['Bank Phishing SMS Scam', 'BEC Scam', 'COIS', 'E-Commerce Scam',\n",
       "       'Fake Buyer Scam', 'FGPS', 'Force/Trial Loan',\n",
       "       'Friend Impersonation Scam', 'GOIS', 'Inheritance Scam',\n",
       "       'Investment (Traditional)', 'Investment Scam', 'Job Scam',\n",
       "       'Loan Scam', 'Loan Scan', 'Lottery Scam', 'Love/Investment Scam',\n",
       "       'Love/Parcel Scam', 'Lucky Draw Scam', 'Non Scam',\n",
       "       'Non-Bank Phishing SMS Scam', 'OSSS', 'Other Scam',\n",
       "       'Phishing Scam', 'Remittance Scam', 'Rental Scam',\n",
       "       'S/M Impersonation Scam', 'Sugar Mummy Scam', 'Tech Support Scam',\n",
       "       'Time Share scam', 'Whatsapp Takeover Scam'], dtype=object)"
      ]
     },
     "execution_count": 39,
     "metadata": {},
     "output_type": "execute_result"
    }
   ],
   "source": [
    "import re \n",
    "new_df = df\n",
    "#   Data Cleaning using regular exp\n",
    "type_list = ['Bank Phishing SMS Scam', 'BEC Scam', 'COIS', 'E-Commerce Scam',\n",
    " 'Fake Buyer Scam', 'FGPS', 'Force/Trial Loan',\n",
    " 'Friend Impersonation Scam', 'GOIS',\n",
    " 'Inheritance Scam', 'Investment (Traditional)', 'Investment Scam',\n",
    " 'Job Scam', 'Loan Scam', 'Lottery Scam', 'Love/Investment Scam', 'Love/Parcel Scam',\n",
    " 'Lucky Draw Scam', 'Non Scam', 'Non-Bank Phishing SMS Scam', 'OSSS', 'Other Scam',\n",
    " 'Phishing Scam', 'Remittance Scam','Rental Scam', 'S/M Impersonation Scam', \n",
    " 'Sugar Mummy Scam', 'Tech Support Scam','Time Share scam', 'Whatsapp Takeover Scam']\n",
    "\n",
    "mapping = {re.compile(rf'(?i)\\b{s}\\b'):s  for s in type_list} \n",
    "#ignores whatever combination of captialisations and replaces those to s\n",
    "df['scam_type'] = df['scam_type'].replace(mapping, regex=True) #takes really damn long though\n",
    "df['scam_type'].unique()\n",
    "# groupedScamType = df.groupby('scam_type').sum()\n",
    "# groupedScamType['amount_scammed']"
   ]
  }
 ],
 "metadata": {
  "kernelspec": {
   "display_name": "Python 3",
   "language": "python",
   "name": "python3"
  },
  "language_info": {
   "codemirror_mode": {
    "name": "ipython",
    "version": 3
   },
   "file_extension": ".py",
   "mimetype": "text/x-python",
   "name": "python",
   "nbconvert_exporter": "python",
   "pygments_lexer": "ipython3",
   "version": "3.11.3"
  },
  "orig_nbformat": 4
 },
 "nbformat": 4,
 "nbformat_minor": 2
}
