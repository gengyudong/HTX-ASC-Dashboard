{
 "cells": [
  {
   "cell_type": "code",
   "execution_count": 1,
   "metadata": {},
   "outputs": [],
   "source": [
    "import pymysql\n",
    "import openpyxl\n",
    "import pandas as pd\n",
    "from datetime import date, timedelta\n",
    "connection = pymysql.connect(host = '119.74.24.181', user = 'htx', password = 'Police123456', database = 'ASTRO')"
   ]
  },
  {
   "cell_type": "code",
   "execution_count": 20,
   "metadata": {},
   "outputs": [
    {
     "name": "stderr",
     "output_type": "stream",
     "text": [
      "C:\\Users\\clair\\AppData\\Local\\Temp\\ipykernel_9552\\2152615840.py:3: UserWarning: pandas only supports SQLAlchemy connectable (engine/connection) or database string URI or sqlite3 DBAPI2 connection. Other DBAPI2 objects are not tested. Please consider using SQLAlchemy.\n",
      "  df = pd.read_sql_query(\"\"\"SELECT account_bank, datetime_production_order_served, datetime_bank_account_frozen, amount_scammed\n"
     ]
    },
    {
     "data": {
      "text/plain": [
       "pandas._libs.tslibs.timedeltas.Timedelta"
      ]
     },
     "execution_count": 20,
     "metadata": {},
     "output_type": "execute_result"
    }
   ],
   "source": [
    "### Data Processing \n",
    "\n",
    "df = pd.read_sql_query(\"\"\"SELECT account_bank, datetime_production_order_served, datetime_bank_account_frozen, amount_scammed\n",
    "FROM scam_management_system order by account_bank asc\"\"\", connection)\n",
    "\n",
    "#   Data cleaning \n",
    "df['account_bank'] = df['account_bank'].str.upper()\n",
    "\n",
    "#   Calculations\n",
    "df['reaction_time'] =  df['datetime_bank_account_frozen'] - df['datetime_production_order_served']\n",
    "\n",
    "\n",
    "# df.to_excel('check.xlsx')\n",
    "\n",
    "groupedBank = df.groupby('account_bank')\n",
    "agg_function = {'amount_scammed':['min', 'max', 'sum', 'mean'],\n",
    "                'reaction_time': ['min', 'max', 'sum', 'mean'],\n",
    "                'datetime_production_order_served': 'count',\n",
    "                }\n",
    "stats = groupedBank.agg(agg_function)\n",
    "stats.columns = ['-'.join(col) for col in stats.columns.values]\n",
    "stats = stats.reset_index()\n",
    "\n",
    "#   Preparing Data to display\n",
    "to_display_df = stats[['account_bank', 'datetime_production_order_served-count','amount_scammed-mean', 'reaction_time-mean']]\n",
    "to_display_df = to_display_df.rename(columns = {'Account_bank': \"Bank\", \n",
    "                                'datetime_production_order_served-count': 'Number of Production Orders Sent',\n",
    "                                'amount_scammed-mean':'Amount Scammed',\n",
    "                                'reaction_time-mean': 'Reaction Time',\n",
    "                                })\n",
    "# to_display_df.to_excel('check.xlsx')\n",
    "type(to_display_df['Reaction Time'][9])\n",
    "\n",
    "\n",
    "\n"
   ]
  }
 ],
 "metadata": {
  "kernelspec": {
   "display_name": "Python 3",
   "language": "python",
   "name": "python3"
  },
  "language_info": {
   "codemirror_mode": {
    "name": "ipython",
    "version": 3
   },
   "file_extension": ".py",
   "mimetype": "text/x-python",
   "name": "python",
   "nbconvert_exporter": "python",
   "pygments_lexer": "ipython3",
   "version": "3.11.3"
  },
  "orig_nbformat": 4
 },
 "nbformat": 4,
 "nbformat_minor": 2
}
