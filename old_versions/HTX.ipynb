{
 "cells": [
  {
   "cell_type": "code",
   "execution_count": 1,
   "id": "b36660e8",
   "metadata": {},
   "outputs": [],
   "source": [
    "import pymysql\n",
    "import pandas as pd\n",
    "from datetime import date, timedelta"
   ]
  },
  {
   "cell_type": "code",
   "execution_count": 2,
   "id": "f608eef2",
   "metadata": {},
   "outputs": [],
   "source": [
    "connection = pymysql.connect(host = '119.74.24.181', user = 'htx', password = 'Police123456', database = 'ASTRO')"
   ]
  },
  {
   "cell_type": "code",
   "execution_count": 3,
   "id": "29815ed0",
   "metadata": {},
   "outputs": [
    {
     "name": "stderr",
     "output_type": "stream",
     "text": [
      "C:\\Users\\clair\\AppData\\Local\\Temp\\ipykernel_4956\\4218794030.py:1: UserWarning: pandas only supports SQLAlchemy connectable (engine/connection) or database string URI or sqlite3 DBAPI2 connection. Other DBAPI2 objects are not tested. Please consider using SQLAlchemy.\n",
      "  df = pd.read_sql_query(\"SELECT * FROM astro.scam_management_system\", connection)\n"
     ]
    }
   ],
   "source": [
    "df = pd.read_sql_query(\"SELECT * FROM astro.scam_management_system\", connection)\n"
   ]
  },
  {
   "cell_type": "code",
   "execution_count": 171,
   "id": "d8004f9b",
   "metadata": {},
   "outputs": [
    {
     "data": {
      "text/html": [
       "<div>\n",
       "<style scoped>\n",
       "    .dataframe tbody tr th:only-of-type {\n",
       "        vertical-align: middle;\n",
       "    }\n",
       "\n",
       "    .dataframe tbody tr th {\n",
       "        vertical-align: top;\n",
       "    }\n",
       "\n",
       "    .dataframe thead th {\n",
       "        text-align: right;\n",
       "    }\n",
       "</style>\n",
       "<table border=\"1\" class=\"dataframe\">\n",
       "  <thead>\n",
       "    <tr style=\"text-align: right;\">\n",
       "      <th></th>\n",
       "      <th>division_assigned</th>\n",
       "      <th>No_of_cases_per_division</th>\n",
       "      <th>latitude</th>\n",
       "      <th>longitude</th>\n",
       "      <th>name</th>\n",
       "    </tr>\n",
       "  </thead>\n",
       "  <tbody>\n",
       "    <tr>\n",
       "      <th>0</th>\n",
       "      <td>F</td>\n",
       "      <td>16337</td>\n",
       "      <td>1.3849575528196754</td>\n",
       "      <td>103.84533643093292</td>\n",
       "      <td>Ang Mo Kio Police Division HQ</td>\n",
       "    </tr>\n",
       "    <tr>\n",
       "      <th>1</th>\n",
       "      <td>G</td>\n",
       "      <td>14133</td>\n",
       "      <td>1.3328211729396362</td>\n",
       "      <td>103.93718201189469</td>\n",
       "      <td>Bedok Police Division HQ</td>\n",
       "    </tr>\n",
       "    <tr>\n",
       "      <th>2</th>\n",
       "      <td>J</td>\n",
       "      <td>13487</td>\n",
       "      <td>1.3511672381459414</td>\n",
       "      <td>103.7023869984011</td>\n",
       "      <td>Jurong Police Division Headquarters</td>\n",
       "    </tr>\n",
       "    <tr>\n",
       "      <th>3</th>\n",
       "      <td>A</td>\n",
       "      <td>11479</td>\n",
       "      <td>1.2787649220017296</td>\n",
       "      <td>103.8397629560721</td>\n",
       "      <td>Central Police Divisional Headquarters</td>\n",
       "    </tr>\n",
       "    <tr>\n",
       "      <th>4</th>\n",
       "      <td>L</td>\n",
       "      <td>11021</td>\n",
       "      <td>1.4334351610154739</td>\n",
       "      <td>103.77890231189434</td>\n",
       "      <td>Woodlands Police Division Headquarters</td>\n",
       "    </tr>\n",
       "    <tr>\n",
       "      <th>5</th>\n",
       "      <td>E</td>\n",
       "      <td>7490</td>\n",
       "      <td>1.3130793731128103</td>\n",
       "      <td>103.8467156436066</td>\n",
       "      <td>Tanglin Police Division HQ</td>\n",
       "    </tr>\n",
       "    <tr>\n",
       "      <th>6</th>\n",
       "      <td>D</td>\n",
       "      <td>7226</td>\n",
       "      <td>1.3173533926882381</td>\n",
       "      <td>103.76671172354014</td>\n",
       "      <td>Clementi Police Divisional Headquarters</td>\n",
       "    </tr>\n",
       "    <tr>\n",
       "      <th>7</th>\n",
       "      <td>CAD</td>\n",
       "      <td>2522</td>\n",
       "      <td>1.278724700500034</td>\n",
       "      <td>103.8393872523757</td>\n",
       "      <td>Commercial Affairs Department</td>\n",
       "    </tr>\n",
       "  </tbody>\n",
       "</table>\n",
       "</div>"
      ],
      "text/plain": [
       "  division_assigned  No_of_cases_per_division            latitude  \\\n",
       "0                 F                     16337  1.3849575528196754   \n",
       "1                 G                     14133  1.3328211729396362   \n",
       "2                 J                     13487  1.3511672381459414   \n",
       "3                 A                     11479  1.2787649220017296   \n",
       "4                 L                     11021  1.4334351610154739   \n",
       "5                 E                      7490  1.3130793731128103   \n",
       "6                 D                      7226  1.3173533926882381   \n",
       "7               CAD                      2522   1.278724700500034   \n",
       "\n",
       "            longitude                                     name  \n",
       "0  103.84533643093292            Ang Mo Kio Police Division HQ  \n",
       "1  103.93718201189469                 Bedok Police Division HQ  \n",
       "2   103.7023869984011      Jurong Police Division Headquarters  \n",
       "3   103.8397629560721   Central Police Divisional Headquarters  \n",
       "4  103.77890231189434   Woodlands Police Division Headquarters  \n",
       "5   103.8467156436066               Tanglin Police Division HQ  \n",
       "6  103.76671172354014  Clementi Police Divisional Headquarters  \n",
       "7   103.8393872523757            Commercial Affairs Department  "
      ]
     },
     "execution_count": 171,
     "metadata": {},
     "output_type": "execute_result"
    }
   ],
   "source": [
    "df_division = df[['division_assigned']].copy()\n",
    "df_division.dropna(subset = ['division_assigned'], inplace = True)\n",
    "\n",
    "df_division = df_division[df_division.division_assigned != '-']\n",
    "df_division = df_division.apply(lambda x: x.str.upper() if x.dtype == \"object\" else x)\n",
    "\n",
    "values_to_be_replaced = ['CAD', 'ASCOM', 'CID']\n",
    "for value in values_to_be_replaced:\n",
    "    df_division = df_division.replace('.*{}.*'.format(value), value, regex=True)\n",
    " \n",
    "df_division = df_division.replace(['ASCOM', 'ASD', 'CID', 'TCIB', 'UMSF', 'ICB', 'APD', 'ACB', 'GOIS'], 'A')\n",
    "df_division = df_division.groupby('division_assigned').size().reset_index(name = 'No_of_cases_per_division')\n",
    "\n",
    "df_division = df_division.drop(index = [0,4,5,7,9,12,13,15,16,17,18,19])\n",
    "\n",
    "df_division = df_division.sort_values('No_of_cases_per_division', ascending = False)\n",
    "df_division = df_division.reset_index(drop = True)\n",
    "\n",
    "df_latlong = pd.DataFrame({'division_assigned': ['F', 'G', 'J', 'A', 'L', 'E', 'D', 'CAD'],\n",
    "                           'latitude': ['1.3849575528196754', '1.3328211729396362', '1.3511672381459414', '1.2787649220017296', '1.4334351610154739', '1.3130793731128103', '1.3173533926882381', '1.278724700500034'],\n",
    "                           'longitude': ['103.84533643093292', '103.93718201189469', '103.7023869984011', '103.8397629560721', '103.77890231189434', '103.8467156436066', '103.76671172354014', '103.8393872523757'],\n",
    "                           'name': ['Ang Mo Kio Police Division HQ', 'Bedok Police Division HQ', 'Jurong Police Division Headquarters', 'Central Police Divisional Headquarters', 'Woodlands Police Division Headquarters', 'Tanglin Police Division HQ', 'Clementi Police Divisional Headquarters', 'Commercial Affairs Department']})\n",
    "\n",
    "\n",
    "\n",
    "df_division = pd.merge(df_division, df_latlong, on = 'division_assigned')\n",
    "df_division\n",
    "\n"
   ]
  },
  {
   "cell_type": "code",
   "execution_count": 9,
   "id": "59b8c9ba",
   "metadata": {},
   "outputs": [
    {
     "data": {
      "text/plain": [
       "['2021-12-26',\n",
       " '2022-01-02',\n",
       " '2022-01-09',\n",
       " '2022-01-16',\n",
       " '2022-01-23',\n",
       " '2022-01-30',\n",
       " '2022-02-06',\n",
       " '2022-02-13',\n",
       " '2022-02-20',\n",
       " '2022-02-27',\n",
       " '2022-03-06',\n",
       " '2022-03-13',\n",
       " '2022-03-20',\n",
       " '2022-03-27',\n",
       " '2022-04-03',\n",
       " '2022-04-10',\n",
       " '2022-04-17',\n",
       " '2022-04-24',\n",
       " '2022-05-01',\n",
       " '2022-05-08',\n",
       " '2022-05-15',\n",
       " '2022-05-22',\n",
       " '2022-05-29',\n",
       " '2022-06-05',\n",
       " '2022-06-12',\n",
       " '2022-06-19',\n",
       " '2022-06-26',\n",
       " '2022-07-03',\n",
       " '2022-07-10',\n",
       " '2022-07-17',\n",
       " '2022-07-24',\n",
       " '2022-07-31',\n",
       " '2022-08-07',\n",
       " '2022-08-14',\n",
       " '2022-08-21',\n",
       " '2022-08-28',\n",
       " '2022-09-04',\n",
       " '2022-09-11',\n",
       " '2022-09-18',\n",
       " '2022-09-25',\n",
       " '2022-10-02',\n",
       " '2022-10-09',\n",
       " '2022-10-16',\n",
       " '2022-10-23',\n",
       " '2022-10-30',\n",
       " '2022-11-06',\n",
       " '2022-11-13',\n",
       " '2022-11-20',\n",
       " '2022-11-27',\n",
       " '2022-12-04',\n",
       " '2022-12-11',\n",
       " '2022-12-18',\n",
       " '2022-12-25',\n",
       " '2023-01-01',\n",
       " '2023-01-08',\n",
       " '2023-01-15',\n",
       " '2023-01-22',\n",
       " '2023-01-29',\n",
       " '2023-02-05',\n",
       " '2023-02-12',\n",
       " '2023-02-19',\n",
       " '2023-02-26',\n",
       " '2023-03-05',\n",
       " '2023-03-12',\n",
       " '2023-03-19']"
      ]
     },
     "execution_count": 9,
     "metadata": {},
     "output_type": "execute_result"
    }
   ],
   "source": [
    "df_day = pd.Series(df['date_assigned']).value_counts().sort_index()\n",
    "df_day = df_day.rename_axis('date').reset_index(name = 'no_of_cases')\n",
    "\n",
    "df_day['date'] = pd.to_datetime(df_day['date']) - pd.to_timedelta(7, unit='d')\n",
    "\n",
    "df_week = df_day.groupby([pd.Grouper(key='date', freq='W')])['no_of_cases'].sum().reset_index(name = 'no_of_cases_per_week')\n",
    "df_week['date'] = df_week['date'].dt.strftime('%Y-%m-%d')\n",
    "df_week['date'].tolist()\n"
   ]
  },
  {
   "cell_type": "code",
   "execution_count": 15,
   "id": "f13148ea",
   "metadata": {},
   "outputs": [
    {
     "data": {
      "text/plain": [
       "date\n",
       "2023-03-26    14\n",
       "2023-04-02    42\n",
       "2023-04-09    38\n",
       "Freq: W-SUN, Name: sales, dtype: int64"
      ]
     },
     "execution_count": 15,
     "metadata": {},
     "output_type": "execute_result"
    }
   ],
   "source": [
    "df_test = pd.DataFrame({'date': pd.date_range(start='4/1/2023', freq='D', periods=15),\n",
    "                   'sales': [6, 8, 9, 5, 4, 8, 8, 3, 5, 9, 8, 3, 4, 7, 7]})\n",
    "\n",
    "\n",
    "df_test['date'] = pd.to_datetime(df_test['date']) - pd.to_timedelta(7, unit='d')\n",
    "df_test.groupby([pd.Grouper(key='date', freq='W')])['sales'].sum()\n",
    "\n"
   ]
  },
  {
   "cell_type": "code",
   "execution_count": 74,
   "id": "23251c15",
   "metadata": {},
   "outputs": [
    {
     "name": "stdout",
     "output_type": "stream",
     "text": [
      "(83901, 19)\n",
      "<class 'pandas.core.frame.DataFrame'>\n",
      "RangeIndex: 83901 entries, 0 to 83900\n",
      "Data columns (total 19 columns):\n",
      " #   Column                            Non-Null Count  Dtype  \n",
      "---  ------                            --------------  -----  \n",
      " 0   report_number                     83901 non-null  object \n",
      " 1   classification                    83901 non-null  object \n",
      " 2   scam_type                         83901 non-null  object \n",
      " 3   account_bank                      83901 non-null  object \n",
      " 4   amount_scammed                    83900 non-null  float64\n",
      " 5   amount_transcated                 5438 non-null   float64\n",
      " 6   online_market_place               10034 non-null  object \n",
      " 7   division_assigned                 83732 non-null  object \n",
      " 8   date_assigned                     83901 non-null  object \n",
      " 9   telco_report_number               79106 non-null  object \n",
      " 10  overseas_local                    83900 non-null  object \n",
      " 11  asc_do                            83901 non-null  object \n",
      " 12  datetime_production_order_served  78837 non-null  object \n",
      " 13  datetime_bank_account_frozen      77586 non-null  object \n",
      " 14  date_bank_details_received        75832 non-null  object \n",
      " 15  latest_balance_seized             76032 non-null  float64\n",
      " 16  is_coporate_account               83901 non-null  int64  \n",
      " 17  referral_date                     83899 non-null  object \n",
      " 18  division                          83901 non-null  object \n",
      "dtypes: float64(3), int64(1), object(15)\n",
      "memory usage: 12.2+ MB\n",
      "None\n"
     ]
    }
   ],
   "source": [
    "df.drop(['initial_report_number', 'account_number', 'account_phone_number', 'whatsapp_number', 'remarks', 'account_holder_name', 'account_holder_nric', 'acount_holder_phone_number', 'account_or_paynowlah_number'], axis = 'columns', inplace=True)\n",
    "print(df.shape)\n",
    "print(df.info())\n",
    "pd.set_option('display.max_columns', None)\n",
    "pd.set_option('display.max_rows', None)"
   ]
  },
  {
   "cell_type": "code",
   "execution_count": 75,
   "id": "2fdc3cfa",
   "metadata": {},
   "outputs": [
    {
     "name": "stdout",
     "output_type": "stream",
     "text": [
      "625751982.2299999\n"
     ]
    }
   ],
   "source": [
    "#Number of losses\n",
    "total_loss = df['amount_scammed'].sum()\n",
    "print(total_loss)"
   ]
  },
  {
   "cell_type": "code",
   "execution_count": 76,
   "id": "f6aa0838",
   "metadata": {},
   "outputs": [
    {
     "ename": "KeyError",
     "evalue": "'bank'",
     "output_type": "error",
     "traceback": [
      "\u001b[1;31m---------------------------------------------------------------------------\u001b[0m",
      "\u001b[1;31mKeyError\u001b[0m                                  Traceback (most recent call last)",
      "Cell \u001b[1;32mIn[76], line 2\u001b[0m\n\u001b[0;32m      1\u001b[0m \u001b[39m#Victims by bank\u001b[39;00m\n\u001b[1;32m----> 2\u001b[0m df\u001b[39m.\u001b[39;49mgroupby(\u001b[39m'\u001b[39;49m\u001b[39mbank\u001b[39;49m\u001b[39m'\u001b[39;49m)\u001b[39m.\u001b[39msize()\u001b[39m.\u001b[39mreset_index(name \u001b[39m=\u001b[39m \u001b[39m'\u001b[39m\u001b[39mVictims By Banks\u001b[39m\u001b[39m'\u001b[39m)\n",
      "File \u001b[1;32mc:\\Users\\gengy\\Documents\\HTX\\HTX-ASC-Dashboard\\HTX\\Lib\\site-packages\\pandas\\core\\frame.py:8402\u001b[0m, in \u001b[0;36mDataFrame.groupby\u001b[1;34m(self, by, axis, level, as_index, sort, group_keys, squeeze, observed, dropna)\u001b[0m\n\u001b[0;32m   8399\u001b[0m     \u001b[39mraise\u001b[39;00m \u001b[39mTypeError\u001b[39;00m(\u001b[39m\"\u001b[39m\u001b[39mYou have to supply one of \u001b[39m\u001b[39m'\u001b[39m\u001b[39mby\u001b[39m\u001b[39m'\u001b[39m\u001b[39m and \u001b[39m\u001b[39m'\u001b[39m\u001b[39mlevel\u001b[39m\u001b[39m'\u001b[39m\u001b[39m\"\u001b[39m)\n\u001b[0;32m   8400\u001b[0m axis \u001b[39m=\u001b[39m \u001b[39mself\u001b[39m\u001b[39m.\u001b[39m_get_axis_number(axis)\n\u001b[1;32m-> 8402\u001b[0m \u001b[39mreturn\u001b[39;00m DataFrameGroupBy(\n\u001b[0;32m   8403\u001b[0m     obj\u001b[39m=\u001b[39;49m\u001b[39mself\u001b[39;49m,\n\u001b[0;32m   8404\u001b[0m     keys\u001b[39m=\u001b[39;49mby,\n\u001b[0;32m   8405\u001b[0m     axis\u001b[39m=\u001b[39;49maxis,\n\u001b[0;32m   8406\u001b[0m     level\u001b[39m=\u001b[39;49mlevel,\n\u001b[0;32m   8407\u001b[0m     as_index\u001b[39m=\u001b[39;49mas_index,\n\u001b[0;32m   8408\u001b[0m     sort\u001b[39m=\u001b[39;49msort,\n\u001b[0;32m   8409\u001b[0m     group_keys\u001b[39m=\u001b[39;49mgroup_keys,\n\u001b[0;32m   8410\u001b[0m     squeeze\u001b[39m=\u001b[39;49msqueeze,\n\u001b[0;32m   8411\u001b[0m     observed\u001b[39m=\u001b[39;49mobserved,\n\u001b[0;32m   8412\u001b[0m     dropna\u001b[39m=\u001b[39;49mdropna,\n\u001b[0;32m   8413\u001b[0m )\n",
      "File \u001b[1;32mc:\\Users\\gengy\\Documents\\HTX\\HTX-ASC-Dashboard\\HTX\\Lib\\site-packages\\pandas\\core\\groupby\\groupby.py:965\u001b[0m, in \u001b[0;36mGroupBy.__init__\u001b[1;34m(self, obj, keys, axis, level, grouper, exclusions, selection, as_index, sort, group_keys, squeeze, observed, mutated, dropna)\u001b[0m\n\u001b[0;32m    962\u001b[0m \u001b[39mif\u001b[39;00m grouper \u001b[39mis\u001b[39;00m \u001b[39mNone\u001b[39;00m:\n\u001b[0;32m    963\u001b[0m     \u001b[39mfrom\u001b[39;00m \u001b[39mpandas\u001b[39;00m\u001b[39m.\u001b[39;00m\u001b[39mcore\u001b[39;00m\u001b[39m.\u001b[39;00m\u001b[39mgroupby\u001b[39;00m\u001b[39m.\u001b[39;00m\u001b[39mgrouper\u001b[39;00m \u001b[39mimport\u001b[39;00m get_grouper\n\u001b[1;32m--> 965\u001b[0m     grouper, exclusions, obj \u001b[39m=\u001b[39m get_grouper(\n\u001b[0;32m    966\u001b[0m         obj,\n\u001b[0;32m    967\u001b[0m         keys,\n\u001b[0;32m    968\u001b[0m         axis\u001b[39m=\u001b[39;49maxis,\n\u001b[0;32m    969\u001b[0m         level\u001b[39m=\u001b[39;49mlevel,\n\u001b[0;32m    970\u001b[0m         sort\u001b[39m=\u001b[39;49msort,\n\u001b[0;32m    971\u001b[0m         observed\u001b[39m=\u001b[39;49mobserved,\n\u001b[0;32m    972\u001b[0m         mutated\u001b[39m=\u001b[39;49m\u001b[39mself\u001b[39;49m\u001b[39m.\u001b[39;49mmutated,\n\u001b[0;32m    973\u001b[0m         dropna\u001b[39m=\u001b[39;49m\u001b[39mself\u001b[39;49m\u001b[39m.\u001b[39;49mdropna,\n\u001b[0;32m    974\u001b[0m     )\n\u001b[0;32m    976\u001b[0m \u001b[39mself\u001b[39m\u001b[39m.\u001b[39mobj \u001b[39m=\u001b[39m obj\n\u001b[0;32m    977\u001b[0m \u001b[39mself\u001b[39m\u001b[39m.\u001b[39maxis \u001b[39m=\u001b[39m obj\u001b[39m.\u001b[39m_get_axis_number(axis)\n",
      "File \u001b[1;32mc:\\Users\\gengy\\Documents\\HTX\\HTX-ASC-Dashboard\\HTX\\Lib\\site-packages\\pandas\\core\\groupby\\grouper.py:888\u001b[0m, in \u001b[0;36mget_grouper\u001b[1;34m(obj, key, axis, level, sort, observed, mutated, validate, dropna)\u001b[0m\n\u001b[0;32m    886\u001b[0m         in_axis, level, gpr \u001b[39m=\u001b[39m \u001b[39mFalse\u001b[39;00m, gpr, \u001b[39mNone\u001b[39;00m\n\u001b[0;32m    887\u001b[0m     \u001b[39melse\u001b[39;00m:\n\u001b[1;32m--> 888\u001b[0m         \u001b[39mraise\u001b[39;00m \u001b[39mKeyError\u001b[39;00m(gpr)\n\u001b[0;32m    889\u001b[0m \u001b[39melif\u001b[39;00m \u001b[39misinstance\u001b[39m(gpr, Grouper) \u001b[39mand\u001b[39;00m gpr\u001b[39m.\u001b[39mkey \u001b[39mis\u001b[39;00m \u001b[39mnot\u001b[39;00m \u001b[39mNone\u001b[39;00m:\n\u001b[0;32m    890\u001b[0m     \u001b[39m# Add key to exclusions\u001b[39;00m\n\u001b[0;32m    891\u001b[0m     exclusions\u001b[39m.\u001b[39madd(gpr\u001b[39m.\u001b[39mkey)\n",
      "\u001b[1;31mKeyError\u001b[0m: 'bank'"
     ]
    }
   ],
   "source": [
    "#Victims by bank\n",
    "df.groupby('bank').size().reset_index(name = 'Victims By Banks')"
   ]
  },
  {
   "cell_type": "code",
   "execution_count": null,
   "id": "bda0b6dd",
   "metadata": {},
   "outputs": [
    {
     "data": {
      "text/plain": [
       "scam_type\n",
       "E-commerce Scam     1\n",
       "Job Scam           16\n",
       "Loan Scam           3\n",
       "Love                1\n",
       "dtype: int64"
      ]
     },
     "execution_count": 55,
     "metadata": {},
     "output_type": "execute_result"
    }
   ],
   "source": [
    "#Types of scams\n",
    "df.loc[3, 'scam_type'] = 'Job Scam'\n",
    "df.groupby('scam_type').size()"
   ]
  },
  {
   "cell_type": "code",
   "execution_count": null,
   "id": "8fd955f6",
   "metadata": {},
   "outputs": [],
   "source": [
    "#Types of scams\n",
    "df.loc[3, 'scam_type'] = 'Job Scam'\n",
    "df.groupby('scam_type').size()"
   ]
  }
 ],
 "metadata": {
  "kernelspec": {
   "display_name": "Python 3 (ipykernel)",
   "language": "python",
   "name": "python3"
  },
  "language_info": {
   "codemirror_mode": {
    "name": "ipython",
    "version": 3
   },
   "file_extension": ".py",
   "mimetype": "text/x-python",
   "name": "python",
   "nbconvert_exporter": "python",
   "pygments_lexer": "ipython3",
   "version": "3.11.3"
  }
 },
 "nbformat": 4,
 "nbformat_minor": 5
}
