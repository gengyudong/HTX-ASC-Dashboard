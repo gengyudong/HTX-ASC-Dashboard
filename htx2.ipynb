{
 "cells": [
  {
   "cell_type": "code",
   "execution_count": 59,
   "metadata": {},
   "outputs": [
    {
     "name": "stderr",
     "output_type": "stream",
     "text": [
      "C:\\Users\\user\\AppData\\Local\\Temp\\ipykernel_9596\\3561170033.py:6: UserWarning: pandas only supports SQLAlchemy connectable (engine/connection) or database string URI or sqlite3 DBAPI2 connection. Other DBAPI2 objects are not tested. Please consider using SQLAlchemy.\n",
      "  df = pd.read_sql_query(\"SELECT * FROM astro.scam_management_system\", connection1)\n",
      "C:\\Users\\user\\AppData\\Local\\Temp\\ipykernel_9596\\3561170033.py:8: UserWarning: pandas only supports SQLAlchemy connectable (engine/connection) or database string URI or sqlite3 DBAPI2 connection. Other DBAPI2 objects are not tested. Please consider using SQLAlchemy.\n",
      "  df_test = pd.read_sql_query(\"SELECT * FROM sys.sys_config\", connection2)\n"
     ]
    }
   ],
   "source": [
    "import pymysql\n",
    "import pandas as pd\n",
    "connection1 = pymysql.connect(host = '119.74.24.181', user = 'htx', password = 'Police123456', database = 'ASTRO')\n",
    "connection2 = pymysql.connect(host = 'localhost', user = 'root', password = 'X-rayisharmful01', database = 'sys')\n",
    "\n",
    "df = pd.read_sql_query(\"SELECT * FROM astro.scam_management_system\", connection1)\n",
    "\n",
    "df_test = pd.read_sql_query(\"SELECT * FROM sys.sys_config\", connection2)\n",
    "\n",
    "\n"
   ]
  },
  {
   "cell_type": "code",
   "execution_count": 69,
   "metadata": {},
   "outputs": [
    {
     "name": "stderr",
     "output_type": "stream",
     "text": [
      "C:\\Users\\user\\AppData\\Local\\Temp\\ipykernel_9596\\1866772294.py:5: UserWarning: pandas only supports SQLAlchemy connectable (engine/connection) or database string URI or sqlite3 DBAPI2 connection. Other DBAPI2 objects are not tested. Please consider using SQLAlchemy.\n",
      "  df_test = pd.read_sql_query(\"SELECT * FROM sys.sys_config\", connection2)\n"
     ]
    },
    {
     "data": {
      "text/plain": [
       "['diagnostics.allow_i_s_tables',\n",
       " 'diagnostics.include_raw',\n",
       " 'ps_thread_trx_info.max_length',\n",
       " 'statement_performance_analyzer.limit',\n",
       " 'statement_performance_analyzer.view',\n",
       " 'statement_truncate_len',\n",
       " 'test',\n",
       " 'testing']"
      ]
     },
     "execution_count": 69,
     "metadata": {},
     "output_type": "execute_result"
    }
   ],
   "source": [
    "import pymysql\n",
    "import pandas as pd\n",
    "connection2 = pymysql.connect(host = 'localhost', user = 'root', password = 'X-rayisharmful01', database = 'sys')\n",
    "\n",
    "df_test = pd.read_sql_query(\"SELECT * FROM sys.sys_config\", connection2)\n",
    "\n",
    "\n",
    "df_test2 = df_test['variable'].value_counts().reset_index()\n",
    "\n",
    "# rename columns\n",
    "df_test2.columns = ['variable', 'count']\n",
    "x_axis = df_test2['variable'].tolist()\n",
    "y_axis = df_test2['count'].tolist()\n"
   ]
  },
  {
   "cell_type": "code",
   "execution_count": 57,
   "metadata": {},
   "outputs": [
    {
     "data": {
      "text/plain": [
       "telco\n",
       "M1            37\n",
       "MyRepublic    84\n",
       "Singtel       25\n",
       "Starhub        7\n",
       "dtype: int64"
      ]
     },
     "execution_count": 57,
     "metadata": {},
     "output_type": "execute_result"
    }
   ],
   "source": [
    "telco_count_series = telco_df.groupby('telco').size()\n",
    "telco_name_list = telco_count_series.index.to_list()\n",
    "telco_count_list = telco_count_series.to_list()\n",
    "telco_count_series[0] = 37\n",
    "telco_count_series"
   ]
  },
  {
   "cell_type": "code",
   "execution_count": 51,
   "metadata": {},
   "outputs": [
    {
     "name": "stdout",
     "output_type": "stream",
     "text": [
      "['Job Scam', 'Investment Scam', 'E-Commerce Scam', 'Friend Impersonation Scam', 'Other Scam', 'Rental Scam', 'Gois', 'Loan Scam', 'Love/Parcel Scam', 'S/M Impersonation Scam']\n"
     ]
    }
   ],
   "source": [
    "df_scam_type_interim = df[['scam_type', 'amount_scammed']].copy()\n",
    "df_scam_type_interim['scam_type'] = df_scam_type_interim['scam_type'].str.lower()\n",
    "df_scam_type_interim['scam_type'] = df_scam_type_interim['scam_type'].replace('loan scan', 'loan scam')\n",
    "\n",
    "df_scam_type_interim = df_scam_type_interim.groupby('scam_type').agg({'scam_type': 'count', 'amount_scammed': 'sum'})\n",
    "df_scam_type_interim.columns = ['num_reports', 'total_amount_scammed']\n",
    "df_scam_type_interim = df_scam_type_interim.rename_axis('scam_type').reset_index()\n",
    "df_scam_type_interim['scam_type'] = df_scam_type_interim['scam_type'].str.title()\n",
    "\n",
    "df_scam_type_interim = df_scam_type_interim.sort_values(by = 'num_reports', ascending = False)\n",
    "top_scam_type_list = df_scam_type_interim.iloc[0:10]['scam_type'].values.tolist()\n",
    "\n",
    "print(top_scam_type_list)\n",
    "#   Data Cleaning\n",
    "df_scam_type = df[['date_assigned', 'scam_type']].copy()\n",
    "df_scam_type = df_scam_type.dropna(subset=['date_assigned', 'scam_type'])\n",
    "df_scam_type['scam_type'] = df_scam_type['scam_type'].str.lower()\n",
    "df_scam_type['scam_type'] = df_scam_type['scam_type'].replace('loan scan', 'loan scam')\n",
    "df_scam_type['scam_type'] = df_scam_type['scam_type'].str.title()\n",
    "\n",
    "df_scam_type = df_scam_type[df_scam_type[\"scam_type\"].isin(top_scam_type_list)].reset_index()\n",
    "\n",
    "\n",
    "df_scam_type['date_assigned'] = pd.to_datetime(df_scam_type['date_assigned'])\n",
    "counts = df_scam_type.groupby(['scam_type', 'date_assigned']).size()\n",
    "df_scam_type = counts.reset_index(name='count')\n",
    "\n",
    "pd.set_option('display.max_rows', 500)\n"
   ]
  },
  {
   "cell_type": "code",
   "execution_count": 17,
   "metadata": {},
   "outputs": [
    {
     "name": "stdout",
     "output_type": "stream",
     "text": [
      "447\n",
      "447\n",
      "[datetime.date(2022, 1, 1), datetime.date(2022, 1, 2), datetime.date(2022, 1, 3), datetime.date(2022, 1, 4), datetime.date(2022, 1, 5), datetime.date(2022, 1, 6), datetime.date(2022, 1, 7), datetime.date(2022, 1, 8), datetime.date(2022, 1, 9), datetime.date(2022, 1, 10), datetime.date(2022, 1, 11), datetime.date(2022, 1, 12), datetime.date(2022, 1, 13), datetime.date(2022, 1, 14), datetime.date(2022, 1, 15), datetime.date(2022, 1, 16), datetime.date(2022, 1, 17), datetime.date(2022, 1, 18), datetime.date(2022, 1, 19), datetime.date(2022, 1, 20), datetime.date(2022, 1, 21), datetime.date(2022, 1, 22), datetime.date(2022, 1, 23), datetime.date(2022, 1, 24), datetime.date(2022, 1, 25), datetime.date(2022, 1, 26), datetime.date(2022, 1, 27), datetime.date(2022, 1, 28), datetime.date(2022, 1, 29), datetime.date(2022, 1, 30), datetime.date(2022, 1, 31), datetime.date(2022, 2, 1), datetime.date(2022, 2, 2), datetime.date(2022, 2, 3), datetime.date(2022, 2, 4), datetime.date(2022, 2, 5), datetime.date(2022, 2, 6), datetime.date(2022, 2, 7), datetime.date(2022, 2, 8), datetime.date(2022, 2, 9), datetime.date(2022, 2, 10), datetime.date(2022, 2, 11), datetime.date(2022, 2, 12), datetime.date(2022, 2, 13), datetime.date(2022, 2, 14), datetime.date(2022, 2, 15), datetime.date(2022, 2, 16), datetime.date(2022, 2, 17), datetime.date(2022, 2, 18), datetime.date(2022, 2, 19), datetime.date(2022, 2, 20), datetime.date(2022, 2, 21), datetime.date(2022, 2, 22), datetime.date(2022, 2, 23), datetime.date(2022, 2, 24), datetime.date(2022, 2, 25), datetime.date(2022, 2, 26), datetime.date(2022, 2, 27), datetime.date(2022, 2, 28), datetime.date(2022, 3, 1), datetime.date(2022, 3, 2), datetime.date(2022, 3, 3), datetime.date(2022, 3, 4), datetime.date(2022, 3, 5), datetime.date(2022, 3, 6), datetime.date(2022, 3, 7), datetime.date(2022, 3, 8), datetime.date(2022, 3, 9), datetime.date(2022, 3, 10), datetime.date(2022, 3, 11), datetime.date(2022, 3, 12), datetime.date(2022, 3, 13), datetime.date(2022, 3, 14), datetime.date(2022, 3, 15), datetime.date(2022, 3, 16), datetime.date(2022, 3, 17), datetime.date(2022, 3, 18), datetime.date(2022, 3, 19), datetime.date(2022, 3, 20), datetime.date(2022, 3, 21), datetime.date(2022, 3, 22), datetime.date(2022, 3, 23), datetime.date(2022, 3, 24), datetime.date(2022, 3, 25), datetime.date(2022, 3, 26), datetime.date(2022, 3, 27), datetime.date(2022, 3, 28), datetime.date(2022, 3, 29), datetime.date(2022, 3, 30), datetime.date(2022, 3, 31), datetime.date(2022, 4, 1), datetime.date(2022, 4, 2), datetime.date(2022, 4, 3), datetime.date(2022, 4, 4), datetime.date(2022, 4, 5), datetime.date(2022, 4, 6), datetime.date(2022, 4, 7), datetime.date(2022, 4, 8), datetime.date(2022, 4, 9), datetime.date(2022, 4, 10), datetime.date(2022, 4, 11), datetime.date(2022, 4, 12), datetime.date(2022, 4, 13), datetime.date(2022, 4, 14), datetime.date(2022, 4, 15), datetime.date(2022, 4, 16), datetime.date(2022, 4, 17), datetime.date(2022, 4, 18), datetime.date(2022, 4, 19), datetime.date(2022, 4, 20), datetime.date(2022, 4, 21), datetime.date(2022, 4, 22), datetime.date(2022, 4, 23), datetime.date(2022, 4, 24), datetime.date(2022, 4, 25), datetime.date(2022, 4, 26), datetime.date(2022, 4, 27), datetime.date(2022, 4, 28), datetime.date(2022, 4, 29), datetime.date(2022, 4, 30), datetime.date(2022, 5, 1), datetime.date(2022, 5, 2), datetime.date(2022, 5, 3), datetime.date(2022, 5, 4), datetime.date(2022, 5, 5), datetime.date(2022, 5, 6), datetime.date(2022, 5, 7), datetime.date(2022, 5, 8), datetime.date(2022, 5, 9), datetime.date(2022, 5, 10), datetime.date(2022, 5, 11), datetime.date(2022, 5, 12), datetime.date(2022, 5, 13), datetime.date(2022, 5, 14), datetime.date(2022, 5, 15), datetime.date(2022, 5, 16), datetime.date(2022, 5, 17), datetime.date(2022, 5, 18), datetime.date(2022, 5, 19), datetime.date(2022, 5, 20), datetime.date(2022, 5, 21), datetime.date(2022, 5, 22), datetime.date(2022, 5, 23), datetime.date(2022, 5, 24), datetime.date(2022, 5, 25), datetime.date(2022, 5, 26), datetime.date(2022, 5, 27), datetime.date(2022, 5, 28), datetime.date(2022, 5, 29), datetime.date(2022, 5, 30), datetime.date(2022, 5, 31), datetime.date(2022, 6, 1), datetime.date(2022, 6, 2), datetime.date(2022, 6, 3), datetime.date(2022, 6, 4), datetime.date(2022, 6, 5), datetime.date(2022, 6, 6), datetime.date(2022, 6, 7), datetime.date(2022, 6, 8), datetime.date(2022, 6, 9), datetime.date(2022, 6, 10), datetime.date(2022, 6, 11), datetime.date(2022, 6, 12), datetime.date(2022, 6, 13), datetime.date(2022, 6, 14), datetime.date(2022, 6, 15), datetime.date(2022, 6, 16), datetime.date(2022, 6, 17), datetime.date(2022, 6, 18), datetime.date(2022, 6, 19), datetime.date(2022, 6, 20), datetime.date(2022, 6, 21), datetime.date(2022, 6, 22), datetime.date(2022, 6, 23), datetime.date(2022, 6, 24), datetime.date(2022, 6, 25), datetime.date(2022, 6, 26), datetime.date(2022, 6, 27), datetime.date(2022, 6, 28), datetime.date(2022, 6, 29), datetime.date(2022, 6, 30), datetime.date(2022, 7, 1), datetime.date(2022, 7, 2), datetime.date(2022, 7, 3), datetime.date(2022, 7, 4), datetime.date(2022, 7, 5), datetime.date(2022, 7, 6), datetime.date(2022, 7, 7), datetime.date(2022, 7, 8), datetime.date(2022, 7, 9), datetime.date(2022, 7, 10), datetime.date(2022, 7, 11), datetime.date(2022, 7, 12), datetime.date(2022, 7, 13), datetime.date(2022, 7, 14), datetime.date(2022, 7, 15), datetime.date(2022, 7, 16), datetime.date(2022, 7, 17), datetime.date(2022, 7, 18), datetime.date(2022, 7, 19), datetime.date(2022, 7, 20), datetime.date(2022, 7, 21), datetime.date(2022, 7, 22), datetime.date(2022, 7, 23), datetime.date(2022, 7, 24), datetime.date(2022, 7, 25), datetime.date(2022, 7, 26), datetime.date(2022, 7, 27), datetime.date(2022, 7, 28), datetime.date(2022, 7, 29), datetime.date(2022, 7, 30), datetime.date(2022, 7, 31), datetime.date(2022, 8, 1), datetime.date(2022, 8, 2), datetime.date(2022, 8, 3), datetime.date(2022, 8, 4), datetime.date(2022, 8, 5), datetime.date(2022, 8, 6), datetime.date(2022, 8, 7), datetime.date(2022, 8, 8), datetime.date(2022, 8, 9), datetime.date(2022, 8, 10), datetime.date(2022, 8, 11), datetime.date(2022, 8, 12), datetime.date(2022, 8, 13), datetime.date(2022, 8, 14), datetime.date(2022, 8, 15), datetime.date(2022, 8, 16), datetime.date(2022, 8, 17), datetime.date(2022, 8, 18), datetime.date(2022, 8, 19), datetime.date(2022, 8, 20), datetime.date(2022, 8, 21), datetime.date(2022, 8, 22), datetime.date(2022, 8, 23), datetime.date(2022, 8, 24), datetime.date(2022, 8, 25), datetime.date(2022, 8, 26), datetime.date(2022, 8, 27), datetime.date(2022, 8, 28), datetime.date(2022, 8, 29), datetime.date(2022, 8, 30), datetime.date(2022, 8, 31), datetime.date(2022, 9, 1), datetime.date(2022, 9, 2), datetime.date(2022, 9, 3), datetime.date(2022, 9, 4), datetime.date(2022, 9, 5), datetime.date(2022, 9, 6), datetime.date(2022, 9, 7), datetime.date(2022, 9, 8), datetime.date(2022, 9, 9), datetime.date(2022, 9, 10), datetime.date(2022, 9, 11), datetime.date(2022, 9, 12), datetime.date(2022, 9, 13), datetime.date(2022, 9, 14), datetime.date(2022, 9, 15), datetime.date(2022, 9, 16), datetime.date(2022, 9, 17), datetime.date(2022, 9, 18), datetime.date(2022, 9, 19), datetime.date(2022, 9, 20), datetime.date(2022, 9, 21), datetime.date(2022, 9, 22), datetime.date(2022, 9, 23), datetime.date(2022, 9, 24), datetime.date(2022, 9, 25), datetime.date(2022, 9, 26), datetime.date(2022, 9, 27), datetime.date(2022, 9, 28), datetime.date(2022, 9, 29), datetime.date(2022, 9, 30), datetime.date(2022, 10, 1), datetime.date(2022, 10, 2), datetime.date(2022, 10, 3), datetime.date(2022, 10, 4), datetime.date(2022, 10, 5), datetime.date(2022, 10, 6), datetime.date(2022, 10, 7), datetime.date(2022, 10, 8), datetime.date(2022, 10, 9), datetime.date(2022, 10, 10), datetime.date(2022, 10, 11), datetime.date(2022, 10, 12), datetime.date(2022, 10, 13), datetime.date(2022, 10, 14), datetime.date(2022, 10, 15), datetime.date(2022, 10, 16), datetime.date(2022, 10, 17), datetime.date(2022, 10, 18), datetime.date(2022, 10, 19), datetime.date(2022, 10, 20), datetime.date(2022, 10, 21), datetime.date(2022, 10, 22), datetime.date(2022, 10, 23), datetime.date(2022, 10, 24), datetime.date(2022, 10, 25), datetime.date(2022, 10, 26), datetime.date(2022, 10, 27), datetime.date(2022, 10, 28), datetime.date(2022, 10, 29), datetime.date(2022, 10, 30), datetime.date(2022, 10, 31), datetime.date(2022, 11, 1), datetime.date(2022, 11, 2), datetime.date(2022, 11, 3), datetime.date(2022, 11, 4), datetime.date(2022, 11, 5), datetime.date(2022, 11, 6), datetime.date(2022, 11, 7), datetime.date(2022, 11, 8), datetime.date(2022, 11, 9), datetime.date(2022, 11, 10), datetime.date(2022, 11, 11), datetime.date(2022, 11, 12), datetime.date(2022, 11, 13), datetime.date(2022, 11, 14), datetime.date(2022, 11, 15), datetime.date(2022, 11, 16), datetime.date(2022, 11, 17), datetime.date(2022, 11, 18), datetime.date(2022, 11, 19), datetime.date(2022, 11, 20), datetime.date(2022, 11, 21), datetime.date(2022, 11, 22), datetime.date(2022, 11, 23), datetime.date(2022, 11, 24), datetime.date(2022, 11, 25), datetime.date(2022, 11, 26), datetime.date(2022, 11, 27), datetime.date(2022, 11, 28), datetime.date(2022, 11, 29), datetime.date(2022, 11, 30), datetime.date(2022, 12, 1), datetime.date(2022, 12, 2), datetime.date(2022, 12, 3), datetime.date(2022, 12, 4), datetime.date(2022, 12, 5), datetime.date(2022, 12, 6), datetime.date(2022, 12, 7), datetime.date(2022, 12, 8), datetime.date(2022, 12, 9), datetime.date(2022, 12, 10), datetime.date(2022, 12, 11), datetime.date(2022, 12, 12), datetime.date(2022, 12, 13), datetime.date(2022, 12, 14), datetime.date(2022, 12, 15), datetime.date(2022, 12, 16), datetime.date(2022, 12, 17), datetime.date(2022, 12, 18), datetime.date(2022, 12, 19), datetime.date(2022, 12, 20), datetime.date(2022, 12, 21), datetime.date(2022, 12, 22), datetime.date(2022, 12, 23), datetime.date(2022, 12, 24), datetime.date(2022, 12, 25), datetime.date(2022, 12, 26), datetime.date(2022, 12, 27), datetime.date(2022, 12, 28), datetime.date(2022, 12, 29), datetime.date(2022, 12, 30), datetime.date(2022, 12, 31), datetime.date(2023, 1, 1), datetime.date(2023, 1, 2), datetime.date(2023, 1, 3), datetime.date(2023, 1, 4), datetime.date(2023, 1, 5), datetime.date(2023, 1, 6), datetime.date(2023, 1, 7), datetime.date(2023, 1, 8), datetime.date(2023, 1, 9), datetime.date(2023, 1, 10), datetime.date(2023, 1, 11), datetime.date(2023, 1, 12), datetime.date(2023, 1, 13), datetime.date(2023, 1, 14), datetime.date(2023, 1, 15), datetime.date(2023, 1, 16), datetime.date(2023, 1, 17), datetime.date(2023, 1, 18), datetime.date(2023, 1, 19), datetime.date(2023, 1, 20), datetime.date(2023, 1, 21), datetime.date(2023, 1, 22), datetime.date(2023, 1, 23), datetime.date(2023, 1, 24), datetime.date(2023, 1, 25), datetime.date(2023, 1, 26), datetime.date(2023, 1, 27), datetime.date(2023, 1, 28), datetime.date(2023, 1, 29), datetime.date(2023, 1, 30), datetime.date(2023, 1, 31), datetime.date(2023, 2, 1), datetime.date(2023, 2, 2), datetime.date(2023, 2, 3), datetime.date(2023, 2, 4), datetime.date(2023, 2, 5), datetime.date(2023, 2, 6), datetime.date(2023, 2, 7), datetime.date(2023, 2, 8), datetime.date(2023, 2, 9), datetime.date(2023, 2, 10), datetime.date(2023, 2, 11), datetime.date(2023, 2, 12), datetime.date(2023, 2, 13), datetime.date(2023, 2, 14), datetime.date(2023, 2, 15), datetime.date(2023, 2, 16), datetime.date(2023, 2, 17), datetime.date(2023, 2, 18), datetime.date(2023, 2, 19), datetime.date(2023, 2, 20), datetime.date(2023, 2, 21), datetime.date(2023, 2, 22), datetime.date(2023, 2, 23), datetime.date(2023, 2, 24), datetime.date(2023, 2, 25), datetime.date(2023, 2, 26), datetime.date(2023, 2, 27), datetime.date(2023, 2, 28), datetime.date(2023, 3, 1), datetime.date(2023, 3, 2), datetime.date(2023, 3, 3), datetime.date(2023, 3, 4), datetime.date(2023, 3, 5), datetime.date(2023, 3, 6), datetime.date(2023, 3, 7), datetime.date(2023, 3, 8), datetime.date(2023, 3, 9), datetime.date(2023, 3, 10), datetime.date(2023, 3, 11), datetime.date(2023, 3, 12), datetime.date(2023, 3, 13), datetime.date(2023, 3, 14), datetime.date(2023, 3, 15), datetime.date(2023, 3, 16), datetime.date(2023, 3, 17), datetime.date(2023, 3, 18), datetime.date(2023, 3, 19), datetime.date(2023, 3, 20), datetime.date(2023, 3, 21), datetime.date(2023, 3, 22), datetime.date(2023, 3, 23)]\n",
      "[10991.15, 384611.81, 31196.93, 1530361.33, 45721.13, 59728.73, 173238.29, 188719.95, 10717.22, 18656.24, 130613.74, 90017.93, 69147.23, 170166.38, 79606.83, 8170.73, 107160.18, 112797.93, 19609.26, 52286.1, 320156.1, 71579.67, 59358.53, 63668.52, 48011.34, 67251.13, 14516.5, 137411.46, 58940.45, 35000.6, 62079.67, 60929.7, 15924.17, 29461.28, 79189.77, 23370.59, 28024.69, 48689.35, 78774.62, 40005.37, 32632.5, 60454.31, 137797.56, 25940.58, 45602.51, 64769.23, 37740.7, 69835.98, 25483.2, 45552.72, 19263.83, 18476.15, 92168.91, 227123.99, 68520.28, 13894.85, 75579.18, 43744.54, 74807.99, 120885.44, 126169.36, 34674.84, 41192.13, 44813.67, 24.45, 0, 39825.75, 181709.99, 118894.03, 37654.8, 95831.06, 81865.02, 0, 37329.96, 464528.59, 474199.05, 305383.63, 1436912.83, 176012.51, 67680.54, 93121.25, 52465.66, 45000.77, 89275.78, 75608.93, 355524.71, 94544.97, 105587.14, 140804.87, 20480.85, 63035.66, 54518.74, 32317.55, 19686.81, 40613.8, 137787.38, 36285.16, 50952.34, 59599.51, 68242.45, 46718.33, 89322.2, 185375.45, 52318.69, 76640.24, 35444.89, 45248.26, 51244.61, 116483.27, 96816.21, 55992.29, 246766.3, 31367.6, 14384.74, 96955.49, 110849.44, 115922.72, 86159.96, 32049.45, 74023.58, 50482.75, 14054652.91, 73729.63, 160135.61, 81562.94, 49040.87, 1986596.85, 104621.18, 39435.55, 160001.84, 109465.04, 150479.41, 95475.34, 108939.06, 78608.34, 25186.11, 251295.8, 72754.2, 132789.55, 66050.93, 20306.04, 23209.86, 75439.93, 103554.9, 39984.37, 173933.4, 85975.21, 29485.25, 15164.98, 69731.88, 0, 20143.41, 46611.97, 25464.27, 19826.91, 45956.43, 37159.2, 24802.3, 38675.33, 49960.63, 111935.7, 553907.52, 26335.63, 53725.29, 93378.76, 49923.89, 108558.3, 49530.45, 46722.8, 75730.8, 0, 37507.83, 35260.7, 52517.97, 16900.39, 111895.81, 51871.26, 36578.8, 58818.03, 40577.73, 47390.75, 54602.47, 102279.48, 52565.1, 58496.15, 152477.21, 76318.4, 95994.44, 60692.56, 13109.36, 47707.72, 26942.13, 59786.18, 33877.67, 57070.55, 192550.89, 3416234.82, 13939.59, 20672.18, 144408.42, 72893.02, 86052.26, 50513.9, 105302.02, 44226.67, 14979.55, 81500.54, 23821.21, 63603.23, 29110.86, 64003.36, 3066703.85, 72612.41, 286605.96, 221762.19, 302013.24, 8410952.08, 27839.25, 34393.73, 18897.1, 79182.37, 96402.6, 89123.74, 96049.58, 112567.4, 59188.32, 25335.6, 101048.74, 155860.47, 65026.22, 47664.16, 38123.54, 32475.98, 5545.48, 87287.8, 67766.47, 155135.19, 186763.48, 61191.42, 27400.62, 84946.68, 76650.68, 20165.1, 188523.88, 1223413.85, 5191338.79, 48899.65, 45816.51, 101428.8, 890923.47, 73464.52, 150583.54, 123416.76, 87792.29, 45211.7, 108476.75, 48674.49, 43080.02, 7839306.14, 151675.82, 24786.11, 26956.37, 235764.43, 81638.77, 458534.08, 92372.4, 96176.45, 46652.19, 41713.13, 461032.83, 39717.42, 74991.53, 44771.25, 66687.32, 75702.79, 36947.54, 135977.74, 21603.9, 30306.81, 81455.96, 105632.96, 22525.61, 22494.55, 215985.13, 85313.71, 26097.01, 206116.82, 87508.63, 28769.39, 12473.74, 227523.97, 99707.0, 253488.34, 12994.14, 140273.81, 35249.37, 12652.98, 5098.55, 183553.02, 63921.62, 176983.28, 42994.56, 188990.73, 61581.13, 66506.29, 150693.06, 64638.04, 22597.57, 89776.28, 51000.49, 42762.94, 88281.26, 23209.01, 28213.79, 15856.11, 31485.45, 54313.68, 21318.59, 161468.99, 47523.92, 720435.28, 50393.37, 30575.22, 65719.71, 18712.08, 18280.2, 81301.96, 59101.73, 36538.69, 26457.56, 22933.85, 6632.92, 44231.7, 59406.88, 27409.22, 33379.41, 41394.17, 5748.82, 6788.56, 49854.76, 60314.53, 36973.31, 51628.96, 134177.15, 24218.43, 0.0, 0.0, 56824.69, 522591.27, 46052.69, 207712.69, 76837.91, 15580.42, 105450.36, 62083.86, 105524.41, 45619.28, 45315.71, 43795.0, 21176.9, 17633.16, 5857.81, 0.0, 0.0, 0.0, 0.0, 4546390.64, 29507.51, 162628.41, 19002.69, 63028.66, 130642.17, 21479.63, 13190.42, 156036.31, 3446464.12, 154332.87, 76190.32, 40116.33, 47441.66, 53984.89, 58647.25, 26933.19, 99528.22, 32863.79, 278125.25, 24030.29, 167546.91, 24881.19, 8074.6, 56599.51, 37666.96, 30019.68, 3807.13, 30522.63, 43554.6, 38771.4, 56415.49, 72891.28, 35936.18, 44089.86, 17669.66, 56741.39, 115546.81, 183114.11, 25427.79, 63694.69, 18209.48, 18778.83, 56597.71, 57775.3, 48391.68, 45612.09, 1085164.98, 41968.51, 31272.15, 84359.59, 17788.33, 101320.67, 116927.18, 53339.69, 7958.29, 24917.38, 118770.75, 202879.55, 151308.32, 97024.64, 98388.03, 26731.1, 30547.43, 112783.03, 14805.02, 64450.51, 25069.84, 64569.24, 46787.14, 5351.54, 76729.76, 47552.35, 52295.99, 30902.52, 2080.93, 5489.97, 15160.98, 12864.93, 18978.63, 9049.87]\n"
     ]
    }
   ],
   "source": [
    "\n",
    "from datetime import timedelta, timezone\n",
    "df_recovery_trend = df[['date_assigned', 'amount_scammed', 'latest_balance_seized']].copy()\n",
    "df_recovery_trend = df_recovery_trend.fillna(0)\n",
    "\n",
    "iteration_count = len(df_recovery_trend.index)\n",
    "dates = []\n",
    "amount_recovered_list = []\n",
    "amount_recovered_interim = 0\n",
    "start_date = df_recovery_trend['date_assigned'][0]\n",
    "start_date = round(start_date.replace(tzinfo=timezone.utc).timestamp()) * 1000\n",
    "current_date = start_date\n",
    "end_date = df_recovery_trend['date_assigned'][iteration_count-1]\n",
    "\n",
    "while current_date != end_date:\n",
    "    dates.append(current_date)\n",
    "    current_date += timedelta(days = 1)\n",
    "dates.append(current_date)\n",
    "\n",
    "current_date = start_date\n",
    "\n",
    "for i in range(iteration_count):\n",
    "    if df_recovery_trend['date_assigned'][i] == current_date:\n",
    "        if df_recovery_trend['latest_balance_seized'][i] >= df_recovery_trend['amount_scammed'][i]:\n",
    "            amount_recovered_interim += df_recovery_trend['amount_scammed'][i]\n",
    "        else:\n",
    "            amount_recovered_interim += df_recovery_trend['latest_balance_seized'][i]\n",
    "\n",
    "    else:\n",
    "        amount_recovered_interim = round(amount_recovered_interim, 2)\n",
    "        amount_recovered_list.append(amount_recovered_interim)\n",
    "        amount_recovered_interim = 0\n",
    "        current_date += timedelta(days = 1)\n",
    "        \n",
    "        while df_recovery_trend['date_assigned'][i] != current_date:\n",
    "            amount_recovered_list.append(0)   \n",
    "            current_date += timedelta(days = 1)\n",
    "            \n",
    "        if df_recovery_trend['latest_balance_seized'][i] >= df_recovery_trend['amount_scammed'][i]:\n",
    "            amount_recovered_interim += df_recovery_trend['amount_scammed'][i]\n",
    "        else:\n",
    "            amount_recovered_interim += df_recovery_trend['latest_balance_seized'][i]\n",
    "\n",
    "amount_recovered_list.append(amount_recovered_interim)\n",
    "\n",
    "print(len(amount_recovered_list))\n",
    "print(len(dates))\n",
    "print(dates)\n",
    "print(amount_recovered_list)"
   ]
  },
  {
   "cell_type": "code",
   "execution_count": null,
   "metadata": {},
   "outputs": [],
   "source": [
    "#   x-min & x-max date (Default viewport for graph)                       \n",
    "    max_date = date.today()\n",
    "    time = datetime.min.time()\n",
    "    default_max_datetime = datetime.combine(max_date, time)\n",
    "    default_max_xview = round(default_max_datetime.replace(tzinfo=timezone.utc).timestamp()) * 1000\n",
    "\n",
    "    min_date = max_date - timedelta(days = 90)\n",
    "    default_min_datetime = datetime.combine(min_date, time)\n",
    "    default_min_xview = round(default_min_datetime.replace(tzinfo=timezone.utc).timestamp()) * 1000\n"
   ]
  }
 ],
 "metadata": {
  "kernelspec": {
   "display_name": "HTX",
   "language": "python",
   "name": "python3"
  },
  "language_info": {
   "codemirror_mode": {
    "name": "ipython",
    "version": 3
   },
   "file_extension": ".py",
   "mimetype": "text/x-python",
   "name": "python",
   "nbconvert_exporter": "python",
   "pygments_lexer": "ipython3",
   "version": "3.11.2"
  },
  "orig_nbformat": 4
 },
 "nbformat": 4,
 "nbformat_minor": 2
}
